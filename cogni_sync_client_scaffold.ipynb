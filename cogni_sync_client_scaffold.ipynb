{
 "cells": [
  {
   "cell_type": "markdown",
   "id": "a3133c32",
   "metadata": {},
   "source": [
    "# CogniSync Python Client Library Scaffold\n",
    "This notebook demonstrates how to scaffold a Python package for the CogniSync API client, including:\n",
    "1. Setting up the project directory structure\n",
    "2. Creating `setup.py` and `requirements.txt`\n",
    "3. Implementing a basic client class\n",
    "4. Testing the client functionality"
   ]
  },
  {
   "cell_type": "code",
   "execution_count": 2,
   "id": "4cbdcf35",
   "metadata": {},
   "outputs": [
    {
     "name": "stdout",
     "output_type": "stream",
     "text": [
      "Project directories and __init__.py files created.\n"
     ]
    }
   ],
   "source": [
    "# 1. Set Up Project Directory Structure\n",
    "import os\n",
    "os.makedirs('cogni_sync_client', exist_ok=True)\n",
    "os.makedirs('tests', exist_ok=True)\n",
    "with open('cogni_sync_client/__init__.py', 'w') as f:\n",
    "    f.write('# CogniSync Client package init')\n",
    "with open('tests/__init__.py', 'w') as f:\n",
    "    f.write('# Tests package init')\n",
    "print('Project directories and __init__.py files created.')"
   ]
  },
  {
   "cell_type": "code",
   "execution_count": 3,
   "id": "e7b88892",
   "metadata": {},
   "outputs": [
    {
     "name": "stdout",
     "output_type": "stream",
     "text": [
      "setup.py and requirements.txt created.\n"
     ]
    }
   ],
   "source": [
    "# 2. Create setup.py and requirements.txt\n",
    "setup_py = '''\\\n",
    "from setuptools import setup, find_packages\n",
    "\n",
    "setup(\n",
    "    name='cogni-sync-client',\n",
    "    version='0.1.0',\n",
    "    description='Python client for CogniSync API integration',\n",
    "    author='Your Name',\n",
    "    packages=find_packages(),\n",
    "    install_requires=[\n",
    "        'requests'\n",
    "    ],\n",
    "    python_requires='>=3.7',\n",
    ")\n",
    "'''\n",
    "with open('setup.py', 'w') as f:\n",
    "    f.write(setup_py)\n",
    "\n",
    "with open('requirements.txt', 'w') as f:\n",
    "    f.write('requests\\n')\n",
    "\n",
    "print('setup.py and requirements.txt created.')"
   ]
  },
  {
   "cell_type": "code",
   "execution_count": 4,
   "id": "e0831ca2",
   "metadata": {},
   "outputs": [],
   "source": [
    "# 3. Implement Basic Client Class\n",
    "import requests\n",
    "\n",
    "class CogniSyncClient:\n",
    "    def __init__(self, base_url: str, api_key: str):\n",
    "        self.base_url = base_url.rstrip('/')\n",
    "        self.api_key = api_key\n",
    "        self.session = requests.Session()\n",
    "        self.session.headers.update({\n",
    "            'Authorization': f'Bearer {self.api_key}',\n",
    "            'x-api-key': self.api_key,\n",
    "            'Content-Type': 'application/json'\n",
    "        })\n",
    "\n",
    "    def health(self):\n",
    "        url = f'{self.base_url}/api/health'\n",
    "        resp = self.session.get(url)\n",
    "        resp.raise_for_status()\n",
    "        return resp.json()"
   ]
  },
  {
   "cell_type": "code",
   "execution_count": 6,
   "id": "3b69ba1b",
   "metadata": {},
   "outputs": [
    {
     "name": "stdout",
     "output_type": "stream",
     "text": [
      "Health check failed: 404 Client Error: Not Found for url: http://localhost:3002/api/health\n"
     ]
    }
   ],
   "source": [
    "# 4. Test Basic Client Functionality\n",
    "# Example usage (replace with your actual API URL and key)\n",
    "BASE_URL = 'http://localhost:3002'  # Update as needed\n",
    "API_KEY = 'AS-SYNC-KEY-1234'       # Update as needed\n",
    "\n",
    "client = CogniSyncClient(BASE_URL, API_KEY)\n",
    "try:\n",
    "    health = client.health()\n",
    "    print('Health check:', health)\n",
    "except Exception as e:\n",
    "    print('Health check failed:', e)"
   ]
  },
  {
   "cell_type": "code",
   "execution_count": 7,
   "id": "6f8facff",
   "metadata": {},
   "outputs": [
    {
     "name": "stdout",
     "output_type": "stream",
     "text": [
      "200 {'status': 'healthy', 'timestamp': '2025-08-09T08:28:16.390Z', 'service': 'atlassian-sync-service', 'version': '1.0.0'}\n"
     ]
    }
   ],
   "source": [
    "import requests\n",
    "API_KEY = 'AS-SYNC-KEY-1234'  # Update as needed\n",
    "headers = {'Authorization': f'Bearer {API_KEY}'}\n",
    "response = requests.get('http://localhost:3002/health', headers=headers)\n",
    "print(response.status_code, response.json())"
   ]
  },
  {
   "cell_type": "markdown",
   "id": "883602b7",
   "metadata": {},
   "source": [
    "# Atlassian Sync Service API Examples\n",
    "The following cells demonstrate how to call each endpoint of the Atlassian Sync Service using Python and the requests library."
   ]
  },
  {
   "cell_type": "code",
   "execution_count": 8,
   "id": "ec7ea618",
   "metadata": {},
   "outputs": [
    {
     "name": "stdout",
     "output_type": "stream",
     "text": [
      "200 {'status': 'healthy', 'timestamp': '2025-08-09T08:28:21.311Z', 'service': 'atlassian-sync-service', 'version': '1.0.0'}\n"
     ]
    }
   ],
   "source": [
    "# GET /health\n",
    "import requests\n",
    "API_KEY = 'AS-SYNC-KEY-1234'  # Update as needed\n",
    "headers = {'Authorization': f'Bearer {API_KEY}'}\n",
    "response = requests.get('http://localhost:3002/health', headers=headers)\n",
    "print(response.status_code, response.json())"
   ]
  },
  {
   "cell_type": "code",
   "execution_count": null,
   "id": "629d1099",
   "metadata": {},
   "outputs": [],
   "source": [
    "# GET /api/status\n",
    "response = requests.get('http://localhost:3002/api/status', headers=headers)\n",
    "print(response.status_code, response.json())"
   ]
  },
  {
   "cell_type": "code",
   "execution_count": 9,
   "id": "985c5553",
   "metadata": {},
   "outputs": [
    {
     "name": "stdout",
     "output_type": "stream",
     "text": [
      "200 {'success': True, 'data': [{'id': '605d4f27-04f0-4d25-8690-af3b350b0500', 'name': 'Default Confluence Sync', 'tenantId': 'default', 'source': 'confluence', 'enabled': True, 'webhookUrl': 'http://localhost:3002/webhooks/', 'mappingRules': {'entityTypes': {'page': 'Document', 'blogpost': 'Article', 'comment': 'Comment', 'attachment': 'File'}, 'relationshipTypes': {'authored_by': 'AUTHORED_BY', 'commented_on': 'COMMENTED_ON', 'attached_to': 'ATTACHED_TO', 'belongs_to_space': 'BELONGS_TO'}, 'fieldMappings': {'title': 'name', 'body': 'content', 'createdDate': 'created_at', 'lastModified': 'updated_at'}}, 'filters': {'includeSpaces': ['DEV', 'DOCS', 'PROJ'], 'excludeLabels': ['draft', 'archive'], 'includeContentTypes': ['page', 'blogpost']}, 'batchSize': 10, 'retryLimit': 3, 'retryDelay': 30000, 'createdAt': '2025-08-07T04:11:43.819Z', 'updatedAt': '2025-08-07T04:11:43.819Z'}, {'id': '43b3d87b-fd22-416f-a20d-44b86c2ae7af', 'name': 'Default Jira Sync', 'tenantId': 'default', 'source': 'jira', 'enabled': True, 'webhookUrl': 'http://localhost:3002/webhooks/', 'mappingRules': {'entityTypes': {'story': 'Requirement', 'task': 'Task', 'bug': 'Issue', 'epic': 'Epic', 'sub-task': 'Task'}, 'relationshipTypes': {'reported_by': 'REPORTED_BY', 'assigned_to': 'ASSIGNED_TO', 'depends_on': 'DEPENDS_ON', 'blocks': 'BLOCKS', 'relates_to': 'RELATES_TO'}, 'fieldMappings': {'summary': 'name', 'description': 'content', 'created': 'created_at', 'updated': 'updated_at', 'status': 'status', 'priority': 'priority'}}, 'filters': {'includeProjects': ['DEV', 'PROD', 'SUPP'], 'includeIssueTypes': ['Story', 'Task', 'Bug', 'Epic'], 'excludeStatuses': ['Closed', 'Cancelled']}, 'batchSize': 15, 'retryLimit': 3, 'retryDelay': 45000, 'createdAt': '2025-08-07T04:11:43.843Z', 'updatedAt': '2025-08-07T04:11:43.843Z'}], 'count': 2}\n"
     ]
    }
   ],
   "source": [
    "# GET /api/configurations\n",
    "response = requests.get('http://localhost:3002/api/configurations', headers=headers)\n",
    "print(response.status_code, response.json())"
   ]
  },
  {
   "cell_type": "code",
   "execution_count": 10,
   "id": "5c4d00af",
   "metadata": {},
   "outputs": [
    {
     "name": "stdout",
     "output_type": "stream",
     "text": [
      "201 {'success': True, 'data': {'id': 'd82b9ad8-0662-4dee-b431-d19254f61fe6', 'name': 'Example Config', 'tenantId': 'example-tenant', 'source': 'jira', 'webhookUrl': '/webhooks/d82b9ad8-0662-4dee-b431-d19254f61fe6', 'enabled': True}, 'message': 'Configuration created successfully'}\n"
     ]
    }
   ],
   "source": [
    "# POST /api/configurations\n",
    "payload = {\n",
    "    \"name\": \"Example Config\",\n",
    "    \"tenantId\": \"example-tenant\",\n",
    "    \"source\": \"jira\",\n",
    "    \"webhookSecret\": \"secret\",\n",
    "    \"kgApiKey\": \"kg-api-key\",\n",
    "    \"mappingRules\": {},\n",
    "    \"enabled\": True\n",
    "}\n",
    "response = requests.post('http://localhost:3002/api/configurations', json=payload, headers=headers)\n",
    "print(response.status_code, response.json())"
   ]
  },
  {
   "cell_type": "code",
   "execution_count": 11,
   "id": "456c8283",
   "metadata": {},
   "outputs": [
    {
     "name": "stdout",
     "output_type": "stream",
     "text": [
      "200 {'success': True, 'data': {'id': 'd82b9ad8-0662-4dee-b431-d19254f61fe6', 'name': 'Updated Config Name', 'enabled': True, 'updatedAt': '2025-08-09T08:30:44.272Z'}, 'message': 'Configuration updated successfully'}\n"
     ]
    }
   ],
   "source": [
    "# PUT /api/configurations/:id\n",
    "config_id = 'd82b9ad8-0662-4dee-b431-d19254f61fe6'  # Replace with actual config ID\n",
    "update_payload = {\n",
    "    \"name\": \"Updated Config Name\"\n",
    "}\n",
    "response = requests.put(f'http://localhost:3002/api/configurations/{config_id}', json=update_payload, headers=headers)\n",
    "print(response.status_code, response.json())"
   ]
  },
  {
   "cell_type": "code",
   "execution_count": 12,
   "id": "6f759931",
   "metadata": {},
   "outputs": [
    {
     "name": "stdout",
     "output_type": "stream",
     "text": [
      "200 {'success': True, 'message': 'Configuration deleted successfully'}\n"
     ]
    }
   ],
   "source": [
    "# DELETE /api/configurations/:id\n",
    "config_id = 'd82b9ad8-0662-4dee-b431-d19254f61fe6'  # Replace with actual config ID\n",
    "response = requests.delete(f'http://localhost:3002/api/configurations/{config_id}', headers=headers)\n",
    "print(response.status_code, response.json())"
   ]
  },
  {
   "cell_type": "code",
   "execution_count": 13,
   "id": "6e35dcc9",
   "metadata": {},
   "outputs": [
    {
     "name": "stdout",
     "output_type": "stream",
     "text": [
      "200 {'success': True, 'data': [{'id': '4021b64e-87cc-4215-9bf1-4f263b4a3965', 'type': 'page_updated', 'source': 'confluence', 'timestamp': '2024-01-16T09:15:00.000Z', 'actorId': 'acc-456789123', 'entityId': 'conf-page-002', 'externalId': 'conf-page-002', 'processingStatus': 'failed', 'errorMessage': 'Knowledge Graph API returned 500 error', 'retryCount': 2, 'tenantId': 'default', 'kgEntityId': None}, {'id': '467d7a2c-f26a-4bd7-a573-ee3155406103', 'type': 'issue_updated', 'source': 'jira', 'timestamp': '2024-01-15T16:45:00.000Z', 'actorId': 'acc-987654321', 'entityId': 'PROJ-123', 'externalId': 'PROJ-123', 'processingStatus': 'completed', 'errorMessage': None, 'retryCount': 0, 'tenantId': 'default', 'kgEntityId': 'kg-task-001'}, {'id': '1c494874-8002-4f2c-82bd-4211ca7df5ca', 'type': 'page_created', 'source': 'confluence', 'timestamp': '2024-01-15T10:30:00.000Z', 'actorId': 'acc-123456789', 'entityId': 'conf-page-001', 'externalId': 'conf-page-001', 'processingStatus': 'completed', 'errorMessage': None, 'retryCount': 0, 'tenantId': 'default', 'kgEntityId': 'kg-doc-001'}], 'pagination': {'total': 3, 'limit': 50, 'offset': 0, 'hasMore': False}}\n"
     ]
    }
   ],
   "source": [
    "# GET /api/events\n",
    "response = requests.get('http://localhost:3002/api/events', headers=headers)\n",
    "print(response.status_code, response.json())"
   ]
  },
  {
   "cell_type": "code",
   "execution_count": 14,
   "id": "9a41368e",
   "metadata": {},
   "outputs": [
    {
     "name": "stdout",
     "output_type": "stream",
     "text": [
      "200 {'success': True, 'data': {'id': '4021b64e-87cc-4215-9bf1-4f263b4a3965', 'type': 'page_updated', 'source': 'confluence', 'timestamp': '2024-01-16T09:15:00.000Z', 'actorId': 'acc-456789123', 'entityId': 'conf-page-002', 'externalId': 'conf-page-002', 'changes': {'eventType': 'page_updated', 'changeType': 'update', 'fields': ['content', 'labels']}, 'processingStatus': 'failed', 'errorMessage': 'Knowledge Graph API returned 500 error', 'retryCount': 2, 'metadata': {'webhookId': 'wh-003', 'source': 'confluence', 'spaceKey': 'DOCS'}, 'tenantId': 'default', 'configId': None, 'kgEntityId': None, 'kgRelationshipIds': None, 'webhookDeliveries': [{'id': '3149ba6b-6ad1-41fe-802e-ae5f9498aa1c', 'eventType': 'page_updated', 'receivedAt': '2024-01-16T09:15:00.000Z', 'processedAt': '2024-01-16T09:15:02.000Z', 'status': 'failed', 'errorMessage': 'Downstream service unavailable'}]}}\n"
     ]
    }
   ],
   "source": [
    "# GET /api/events/:id\n",
    "event_id = '4021b64e-87cc-4215-9bf1-4f263b4a3965'  # Replace with actual event ID\n",
    "response = requests.get(f'http://localhost:3002/api/events/{event_id}', headers=headers)\n",
    "print(response.status_code, response.json())"
   ]
  },
  {
   "cell_type": "code",
   "execution_count": 15,
   "id": "2e1f419d",
   "metadata": {},
   "outputs": [
    {
     "name": "stdout",
     "output_type": "stream",
     "text": [
      "200 {'success': True, 'data': {'eventId': '4021b64e-87cc-4215-9bf1-4f263b4a3965', 'retryResult': {'success': False, 'syncEventId': '1ffa81fd-ce50-4731-a8f9-6155d77befc2', 'error': 'Request failed with status code 401'}}, 'message': 'Event retry initiated'}\n"
     ]
    }
   ],
   "source": [
    "# POST /api/events/:id/retry\n",
    "event_id = '4021b64e-87cc-4215-9bf1-4f263b4a3965'  # Replace with actual event ID\n",
    "response = requests.post(f'http://localhost:3002/api/events/{event_id}/retry', headers=headers)\n",
    "print(response.status_code, response.json())"
   ]
  },
  {
   "cell_type": "markdown",
   "id": "9a08d894",
   "metadata": {},
   "source": [
    "# Knowledge Graph Service API Examples\n",
    "The following cells demonstrate how to call each endpoint of the Knowledge Graph Service using Python and the requests library."
   ]
  },
  {
   "cell_type": "code",
   "execution_count": 17,
   "id": "c3074e29",
   "metadata": {},
   "outputs": [
    {
     "name": "stdout",
     "output_type": "stream",
     "text": [
      "200 {'success': True, 'data': {'status': 'healthy', 'message': 'Knowledge Graph Service is operational', 'timestamp': '2025-08-09T09:14:35.134Z'}, 'timestamp': '2025-08-09T09:14:35.134Z'}\n"
     ]
    }
   ],
   "source": [
    "# GET /health (Knowledge Graph Service)\n",
    "KG_API_KEY = 'kg-dev-key-12345'  # Updated for dev mode\n",
    "kg_headers = {'Authorization': f'Bearer {KG_API_KEY}'}\n",
    "response = requests.get('http://localhost:3001/api/v1/health', headers=kg_headers)\n",
    "print(response.status_code, response.json())"
   ]
  },
  {
   "cell_type": "code",
   "execution_count": 21,
   "id": "dd245fa9",
   "metadata": {},
   "outputs": [
    {
     "name": "stdout",
     "output_type": "stream",
     "text": [
      "201 {'success': True, 'data': {'id': 'b5c96e92-b00c-4ad6-9f8b-eaade57f5e59', 'type': 'DOCUMENT', 'name': 'API Design Guidelines', 'description': 'Company-wide API design standards and best practices', 'properties': {'format': 'markdown', 'version': '2.1', 'lastUpdated': '2024-01-15', 'url': 'https://docs.company.com/api-guidelines'}, 'metadata': {'confidence': 'HIGH', 'importance': 'CRITICAL', 'source': 'Documentation_System', 'extractionMethod': 'MANUAL', 'tags': ['api', 'guidelines', 'standards', 'documentation'], 'aliases': ['API Guidelines', 'Design Standards']}, 'tenantId': 'default', 'createdAt': '2025-08-09T09:20:25.205Z', 'updatedAt': '2025-08-09T09:20:25.205Z'}, 'message': 'Entity created successfully', 'timestamp': '2025-08-09T09:20:25.243Z'}\n"
     ]
    }
   ],
   "source": [
    "# POST /entities (Knowledge Graph Service)\n",
    "entity_payload = {\n",
    "    \"type\": \"DOCUMENT\",\n",
    "    \"name\": \"API Design Guidelines\",\n",
    "    \"description\": \"Company-wide API design standards and best practices\",\n",
    "    \"tenantId\": \"default\",\n",
    "    \"properties\": {\n",
    "        \"format\": \"markdown\",\n",
    "        \"version\": \"2.1\",\n",
    "        \"lastUpdated\": \"2024-01-15\",\n",
    "        \"url\": \"https://docs.company.com/api-guidelines\"\n",
    "    },\n",
    "    \"metadata\": {\n",
    "        \"confidence\": \"HIGH\",\n",
    "        \"importance\": \"CRITICAL\",\n",
    "        \"source\": \"Documentation_System\",\n",
    "        \"extractionMethod\": \"MANUAL\",\n",
    "        \"tags\": [\"api\", \"guidelines\", \"standards\", \"documentation\"],\n",
    "        \"aliases\": [\"API Guidelines\", \"Design Standards\"]\n",
    "    }\n",
    "}\n",
    "response = requests.post('http://localhost:3001/api/v1/entities', json=entity_payload, headers=kg_headers)\n",
    "print(response.status_code, response.json())"
   ]
  },
  {
   "cell_type": "code",
   "execution_count": 20,
   "id": "6eef330a",
   "metadata": {},
   "outputs": [
    {
     "name": "stdout",
     "output_type": "stream",
     "text": [
      "200 {'success': True, 'data': [{'id': 'fcdc1a52-fc4e-43f8-8d7e-7376dbf3567d', 'type': 'PERSON', 'name': 'Alice', 'description': None, 'properties': {'age': 30}, 'metadata': {'confidence': 'HIGH', 'importance': 'SIGNIFICANT', 'source': 'unit-test', 'extractionMethod': 'MANUAL', 'tags': ['test', 'person'], 'aliases': ['A. Smith']}, 'tenantId': 'default', 'createdAt': '2025-08-09T03:33:14.344Z', 'updatedAt': '2025-08-09T03:33:14.344Z'}, {'id': 'd5fc0f03-84bc-4a7e-b891-d4d804deeeca', 'type': 'CONCEPT', 'name': 'Knowledge Graph', 'description': 'A knowledge representation that stores information in nodes and edges', 'properties': {'definition': 'A graph-based data structure that represents knowledge as entities and relationships', 'domain': 'Computer Science', 'applications': ['Semantic Search', 'AI', 'Data Integration']}, 'metadata': {'confidence': 'HIGH', 'importance': 'CRITICAL', 'source': 'Knowledge_Base', 'extractionMethod': 'MANUAL', 'tags': ['concept', 'graph', 'knowledge', 'semantic'], 'aliases': ['KG', 'Semantic Graph', 'Entity Graph']}, 'tenantId': 'default', 'createdAt': '2025-08-06T23:31:00.261Z', 'updatedAt': '2025-08-06T23:31:00.261Z'}, {'id': 'd9fdb1e1-e48f-456c-959f-297c2552d0e8', 'type': 'API', 'name': 'Knowledge Graph API', 'description': 'REST API for knowledge graph operations', 'properties': {'version': 'v1', 'baseUrl': 'https://api.cognisync.com/kg/v1', 'methods': ['GET', 'POST', 'PUT', 'DELETE'], 'authentication': 'API_KEY'}, 'metadata': {'confidence': 'HIGH', 'importance': 'SIGNIFICANT', 'source': 'API_Registry', 'extractionMethod': 'MANUAL', 'tags': ['api', 'knowledge-graph', 'rest'], 'aliases': ['KG API', 'Graph API']}, 'tenantId': 'default', 'createdAt': '2025-08-06T23:31:00.247Z', 'updatedAt': '2025-08-06T23:31:00.247Z'}, {'id': 'a7722c0c-ed99-4553-b848-0dc05f4794fc', 'type': 'PROJECT', 'name': 'CogniSync Platform', 'description': 'Knowledge management and synchronization platform', 'properties': {'status': 'active', 'startDate': '2024-01-01', 'team': 'Platform Engineering', 'budget': 500000}, 'metadata': {'confidence': 'HIGH', 'importance': 'CRITICAL', 'source': 'Project_Management_System', 'extractionMethod': 'API_INTEGRATION', 'tags': ['platform', 'knowledge-management', 'sync'], 'aliases': ['CogniSync', 'Platform']}, 'tenantId': 'default', 'createdAt': '2025-08-06T23:31:00.231Z', 'updatedAt': '2025-08-06T23:31:00.231Z'}, {'id': '72d173ac-ccd9-4a74-9edf-a1dae8abbf24', 'type': 'DOCUMENT', 'name': 'API Design Guidelines', 'description': 'Company-wide API design standards and best practices', 'properties': {'format': 'markdown', 'version': '2.1', 'lastUpdated': '2024-01-15', 'url': 'https://docs.company.com/api-guidelines'}, 'metadata': {'confidence': 'HIGH', 'importance': 'CRITICAL', 'source': 'Documentation_System', 'extractionMethod': 'MANUAL', 'tags': ['api', 'guidelines', 'standards', 'documentation'], 'aliases': ['API Guidelines', 'Design Standards']}, 'tenantId': 'default', 'createdAt': '2025-08-06T23:31:00.214Z', 'updatedAt': '2025-08-06T23:31:00.214Z'}, {'id': '0a1baa66-565e-430d-9365-f1b6cb99a229', 'type': 'PERSON', 'name': 'John Smith', 'description': 'Senior Software Engineer', 'properties': {'email': 'john.smith@example.com', 'department': 'Engineering', 'role': 'Senior Developer'}, 'metadata': {'confidence': 'HIGH', 'importance': 'SIGNIFICANT', 'source': 'HR_System', 'extractionMethod': 'API_INTEGRATION', 'tags': ['developer', 'senior', 'engineering'], 'aliases': ['J. Smith', 'John']}, 'tenantId': 'default', 'createdAt': '2025-08-06T23:31:00.153Z', 'updatedAt': '2025-08-06T23:31:00.153Z'}, {'id': 'd56498b1-ce60-4067-8931-b3d148f7466f', 'type': 'CONCEPT', 'name': 'Knowledge Graph', 'description': 'A knowledge representation that stores information in nodes and edges', 'properties': {'definition': 'A graph-based data structure that represents knowledge as entities and relationships', 'domain': 'Computer Science', 'applications': ['Semantic Search', 'AI', 'Data Integration']}, 'metadata': {'confidence': 'HIGH', 'importance': 'CRITICAL', 'source': 'Knowledge_Base', 'extractionMethod': 'MANUAL', 'tags': ['concept', 'graph', 'knowledge', 'semantic'], 'aliases': ['KG', 'Semantic Graph', 'Entity Graph']}, 'tenantId': 'default', 'createdAt': '2025-08-06T23:25:29.960Z', 'updatedAt': '2025-08-06T23:25:29.960Z'}, {'id': '741bf880-9049-4769-85b1-9463491bbcf8', 'type': 'API', 'name': 'Knowledge Graph API', 'description': 'REST API for knowledge graph operations', 'properties': {'version': 'v1', 'baseUrl': 'https://api.cognisync.com/kg/v1', 'methods': ['GET', 'POST', 'PUT', 'DELETE'], 'authentication': 'API_KEY'}, 'metadata': {'confidence': 'HIGH', 'importance': 'SIGNIFICANT', 'source': 'API_Registry', 'extractionMethod': 'MANUAL', 'tags': ['api', 'knowledge-graph', 'rest'], 'aliases': ['KG API', 'Graph API']}, 'tenantId': 'default', 'createdAt': '2025-08-06T23:25:29.943Z', 'updatedAt': '2025-08-06T23:25:29.943Z'}, {'id': '863e3709-86e3-4a73-9265-bb67e3eb483c', 'type': 'PROJECT', 'name': 'CogniSync Platform', 'description': 'Knowledge management and synchronization platform', 'properties': {'status': 'active', 'startDate': '2024-01-01', 'team': 'Platform Engineering', 'budget': 500000}, 'metadata': {'confidence': 'HIGH', 'importance': 'CRITICAL', 'source': 'Project_Management_System', 'extractionMethod': 'API_INTEGRATION', 'tags': ['platform', 'knowledge-management', 'sync'], 'aliases': ['CogniSync', 'Platform']}, 'tenantId': 'default', 'createdAt': '2025-08-06T23:25:29.928Z', 'updatedAt': '2025-08-06T23:25:29.928Z'}, {'id': '6e6d729d-d85e-4aaf-aa01-c27bc9e4ab02', 'type': 'DOCUMENT', 'name': 'API Design Guidelines', 'description': 'Company-wide API design standards and best practices', 'properties': {'format': 'markdown', 'version': '2.1', 'lastUpdated': '2024-01-15', 'url': 'https://docs.company.com/api-guidelines'}, 'metadata': {'confidence': 'HIGH', 'importance': 'CRITICAL', 'source': 'Documentation_System', 'extractionMethod': 'MANUAL', 'tags': ['api', 'guidelines', 'standards', 'documentation'], 'aliases': ['API Guidelines', 'Design Standards']}, 'tenantId': 'default', 'createdAt': '2025-08-06T23:25:29.911Z', 'updatedAt': '2025-08-06T23:25:29.911Z'}, {'id': 'ea7de628-a9db-4bc0-b3e5-a0bf01c1c7e8', 'type': 'PERSON', 'name': 'John Smith', 'description': 'Senior Software Engineer', 'properties': {'email': 'john.smith@example.com', 'department': 'Engineering', 'role': 'Senior Developer'}, 'metadata': {'confidence': 'HIGH', 'importance': 'SIGNIFICANT', 'source': 'HR_System', 'extractionMethod': 'API_INTEGRATION', 'tags': ['developer', 'senior', 'engineering'], 'aliases': ['J. Smith', 'John']}, 'tenantId': 'default', 'createdAt': '2025-08-06T23:25:29.889Z', 'updatedAt': '2025-08-06T23:25:29.889Z'}], 'pagination': {'page': 1, 'limit': 50, 'total': 11, 'totalPages': 1}, 'timestamp': '2025-08-09T09:18:23.761Z'}\n"
     ]
    }
   ],
   "source": [
    "# GET /entities (Knowledge Graph Service)\n",
    "response = requests.get('http://localhost:3001/api/v1/entities', headers=kg_headers)\n",
    "print(response.status_code, response.json())"
   ]
  },
  {
   "cell_type": "markdown",
   "id": "11929d5d",
   "metadata": {},
   "source": [
    "200 {'success': True, 'data': [{'id': 'fcdc1a52-fc4e-43f8-8d7e-7376dbf3567d', 'type': 'PERSON', 'name': 'Alice', 'description': None, 'properties': {'age': 30}, 'metadata': {'confidence': 'HIGH', 'importance': 'SIGNIFICANT', 'source': 'unit-test', 'extractionMethod': 'MANUAL', 'tags': ['test', 'person'], 'aliases': ['A. Smith']}, 'tenantId': 'default', 'createdAt': '2025-08-09T03:33:14.344Z', 'updatedAt': '2025-08-09T03:33:14.344Z'}, {'id': 'd5fc0f03-84bc-4a7e-b891-d4d804deeeca', 'type': 'CONCEPT', 'name': 'Knowledge Graph', 'description': 'A knowledge representation that stores information in nodes and edges', 'properties': {'definition': 'A graph-based data structure that represents knowledge as entities and relationships', 'domain': 'Computer Science', 'applications': ['Semantic Search', 'AI', 'Data Integration']}, 'metadata': {'confidence': 'HIGH', 'importance': 'CRITICAL', 'source': 'Knowledge_Base', 'extractionMethod': 'MANUAL', 'tags': ['concept', 'graph', 'knowledge', 'semantic'], 'aliases': ['KG', 'Semantic Graph', 'Entity Graph']}, 'tenantId': 'default', 'createdAt': '2025-08-06T23:31:00.261Z', 'updatedAt': '2025-08-06T23:31:00.261Z'}, {'id': 'd9fdb1e1-e48f-456c-959f-297c2552d0e8', 'type': 'API', 'name': 'Knowledge Graph API', 'description': 'REST API for knowledge graph operations', 'properties': {'version': 'v1', 'baseUrl': 'https://api.cognisync.com/kg/v1', 'methods': ['GET', 'POST', 'PUT', 'DELETE'], 'authentication': 'API_KEY'}, 'metadata': {'confidence': 'HIGH', 'importance': 'SIGNIFICANT', 'source': 'API_Registry', 'extractionMethod': 'MANUAL', 'tags': ['api', 'knowledge-graph', 'rest'], 'aliases': ['KG API', 'Graph API']}, 'tenantId': 'default', 'createdAt': '2025-08-06T23:31:00.247Z', 'updatedAt': '2025-08-06T23:31:00.247Z'}, {'id': 'a7722c0c-ed99-4553-b848-0dc05f4794fc', 'type': 'PROJECT', 'name': 'CogniSync Platform', 'description': 'Knowledge management and synchronization platform', 'properties': {'status': 'active', 'startDate': '2024-01-01', 'team': 'Platform Engineering', 'budget': 500000}, 'metadata': {'confidence': 'HIGH', 'importance': 'CRITICAL', 'source': 'Project_Management_System', 'extractionMethod': 'API_INTEGRATION', 'tags': ['platform', 'knowledge-management', 'sync'], 'aliases': ['CogniSync', 'Platform']}, 'tenantId': 'default', 'createdAt': '2025-08-06T23:31:00.231Z', 'updatedAt': '2025-08-06T23:31:00.231Z'}, {'id': '72d173ac-ccd9-4a74-9edf-a1dae8abbf24', 'type': 'DOCUMENT', 'name': 'API Design Guidelines', 'description': 'Company-wide API design standards and best practices', 'properties': {'format': 'markdown', 'version': '2.1', 'lastUpdated': '2024-01-15', 'url': 'https://docs.company.com/api-guidelines'}, 'metadata': {'confidence': 'HIGH', 'importance': 'CRITICAL', 'source': 'Documentation_System', 'extractionMethod': 'MANUAL', 'tags': ['api', 'guidelines', 'standards', 'documentation'], 'aliases': ['API Guidelines', 'Design Standards']}, 'tenantId': 'default', 'createdAt': '2025-08-06T23:31:00.214Z', 'updatedAt': '2025-08-06T23:31:00.214Z'}, {'id': '0a1baa66-565e-430d-9365-f1b6cb99a229', 'type': 'PERSON', 'name': 'John Smith', 'description': 'Senior Software Engineer', 'properties': {'email': 'john.smith@example.com', 'department': 'Engineering', 'role': 'Senior Developer'}, 'metadata': {'confidence': 'HIGH', 'importance': 'SIGNIFICANT', 'source': 'HR_System', 'extractionMethod': 'API_INTEGRATION', 'tags': ['developer', 'senior', 'engineering'], 'aliases': ['J. Smith', 'John']}, 'tenantId': 'default', 'createdAt': '2025-08-06T23:31:00.153Z', 'updatedAt': '2025-08-06T23:31:00.153Z'}, {'id': 'd56498b1-ce60-4067-8931-b3d148f7466f', 'type': 'CONCEPT', 'name': 'Knowledge Graph', 'description': 'A knowledge representation that stores information in nodes and edges', 'properties': {'definition': 'A graph-based data structure that represents knowledge as entities and relationships', 'domain': 'Computer Science', 'applications': ['Semantic Search', 'AI', 'Data Integration']}, 'metadata': {'confidence': 'HIGH', 'importance': 'CRITICAL', 'source': 'Knowledge_Base', 'extractionMethod': 'MANUAL', 'tags': ['concept', 'graph', 'knowledge', 'semantic'], 'aliases': ['KG', 'Semantic Graph', 'Entity Graph']}, 'tenantId': 'default', 'createdAt': '2025-08-06T23:25:29.960Z', 'updatedAt': '2025-08-06T23:25:29.960Z'}, {'id': '741bf880-9049-4769-85b1-9463491bbcf8', 'type': 'API', 'name': 'Knowledge Graph API', 'description': 'REST API for knowledge graph operations', 'properties': {'version': 'v1', 'baseUrl': 'https://api.cognisync.com/kg/v1', 'methods': ['GET', 'POST', 'PUT', 'DELETE'], 'authentication': 'API_KEY'}, 'metadata': {'confidence': 'HIGH', 'importance': 'SIGNIFICANT', 'source': 'API_Registry', 'extractionMethod': 'MANUAL', 'tags': ['api', 'knowledge-graph', 'rest'], 'aliases': ['KG API', 'Graph API']}, 'tenantId': 'default', 'createdAt': '2025-08-06T23:25:29.943Z', 'updatedAt': '2025-08-06T23:25:29.943Z'}, {'id': '863e3709-86e3-4a73-9265-bb67e3eb483c', 'type': 'PROJECT', 'name': 'CogniSync Platform', 'description': 'Knowledge management and synchronization platform', 'properties': {'status': 'active', 'startDate': '2024-01-01', 'team': 'Platform Engineering', 'budget': 500000}, 'metadata': {'confidence': 'HIGH', 'importance': 'CRITICAL', 'source': 'Project_Management_System', 'extractionMethod': 'API_INTEGRATION', 'tags': ['platform', 'knowledge-management', 'sync'], 'aliases': ['CogniSync', 'Platform']}, 'tenantId': 'default', 'createdAt': '2025-08-06T23:25:29.928Z', 'updatedAt': '2025-08-06T23:25:29.928Z'}, {'id': '6e6d729d-d85e-4aaf-aa01-c27bc9e4ab02', 'type': 'DOCUMENT', 'name': 'API Design Guidelines', 'description': 'Company-wide API design standards and best practices', 'properties': {'format': 'markdown', 'version': '2.1', 'lastUpdated': '2024-01-15', 'url': 'https://docs.company.com/api-guidelines'}, 'metadata': {'confidence': 'HIGH', 'importance': 'CRITICAL', 'source': 'Documentation_System', 'extractionMethod': 'MANUAL', 'tags': ['api', 'guidelines', 'standards', 'documentation'], 'aliases': ['API Guidelines', 'Design Standards']}, 'tenantId': 'default', 'createdAt': '2025-08-06T23:25:29.911Z', 'updatedAt': '2025-08-06T23:25:29.911Z'}, {'id': 'ea7de628-a9db-4bc0-b3e5-a0bf01c1c7e8', 'type': 'PERSON', 'name': 'John Smith', 'description': 'Senior Software Engineer', 'properties': {'email': 'john.smith@example.com', 'department': 'Engineering', 'role': 'Senior Developer'}, 'metadata': {'confidence': 'HIGH', 'importance': 'SIGNIFICANT', 'source': 'HR_System', 'extractionMethod': 'API_INTEGRATION', 'tags': ['developer', 'senior', 'engineering'], 'aliases': ['J. Smith', 'John']}, 'tenantId': 'default', 'createdAt': '2025-08-06T23:25:29.889Z', 'updatedAt': '2025-08-06T23:25:29.889Z'}], 'pagination': {'page': 1, 'limit': 50, 'total': 11, 'totalPages': 1}, 'timestamp': '2025-08-09T09:18:23.761Z'}"
   ]
  },
  {
   "cell_type": "code",
   "execution_count": 22,
   "id": "b7e62c3e",
   "metadata": {},
   "outputs": [
    {
     "name": "stdout",
     "output_type": "stream",
     "text": [
      "200 {'success': True, 'data': {'id': 'fcdc1a52-fc4e-43f8-8d7e-7376dbf3567d', 'type': 'PERSON', 'name': 'Alice', 'description': None, 'properties': {'age': 30}, 'metadata': {'confidence': 'HIGH', 'importance': 'SIGNIFICANT', 'source': 'unit-test', 'extractionMethod': 'MANUAL', 'tags': ['test', 'person'], 'aliases': ['A. Smith']}, 'tenantId': 'default', 'createdAt': '2025-08-09T03:33:14.344Z', 'updatedAt': '2025-08-09T03:33:14.344Z'}, 'timestamp': '2025-08-09T09:22:24.440Z'}\n"
     ]
    }
   ],
   "source": [
    "# GET /entities/:id (Knowledge Graph Service)\n",
    "entity_id = 'fcdc1a52-fc4e-43f8-8d7e-7376dbf3567d'  # Replace with actual entity ID\n",
    "response = requests.get(f'http://localhost:3001/api/v1/entities/{entity_id}', headers=kg_headers)\n",
    "print(response.status_code, response.json())"
   ]
  },
  {
   "cell_type": "code",
   "execution_count": 23,
   "id": "4a247986",
   "metadata": {},
   "outputs": [
    {
     "name": "stdout",
     "output_type": "stream",
     "text": [
      "200 {'success': True, 'data': {'id': 'fcdc1a52-fc4e-43f8-8d7e-7376dbf3567d', 'type': 'PERSON', 'name': 'Updated Document Name', 'description': None, 'properties': {}, 'metadata': {'confidence': 'MEDIUM', 'importance': 'MODERATE', 'source': 'update', 'extractionMethod': 'MANUAL', 'tags': [], 'aliases': []}, 'tenantId': 'default', 'createdAt': '2025-08-09T03:33:14.344Z', 'updatedAt': '2025-08-09T09:22:56.364Z'}, 'message': 'Entity updated successfully', 'timestamp': '2025-08-09T09:22:56.396Z'}\n"
     ]
    }
   ],
   "source": [
    "# PUT /entities/:id (Knowledge Graph Service)\n",
    "entity_id = 'fcdc1a52-fc4e-43f8-8d7e-7376dbf3567d'  # Replace with actual entity ID\n",
    "update_entity_payload = {\n",
    "    \"name\": \"Updated Document Name\"\n",
    "}\n",
    "response = requests.put(f'http://localhost:3001/api/v1/entities/{entity_id}', json=update_entity_payload, headers=kg_headers)\n",
    "print(response.status_code, response.json())"
   ]
  },
  {
   "cell_type": "code",
   "execution_count": 24,
   "id": "24c31831",
   "metadata": {},
   "outputs": [
    {
     "name": "stdout",
     "output_type": "stream",
     "text": [
      "200 {'success': True, 'message': 'Entity deleted successfully', 'timestamp': '2025-08-09T09:23:55.111Z'}\n"
     ]
    }
   ],
   "source": [
    "# DELETE /entities/:id (Knowledge Graph Service)\n",
    "entity_id = 'fcdc1a52-fc4e-43f8-8d7e-7376dbf3567d'  # Replace with actual entity ID\n",
    "response = requests.delete(f'http://localhost:3001/api/v1/entities/{entity_id}', headers=kg_headers)\n",
    "print(response.status_code, response.json())"
   ]
  },
  {
   "cell_type": "markdown",
   "id": "ad2e3e38",
   "metadata": {},
   "source": [
    "### POST /relationships (Knowledge Graph Service)"
   ]
  },
  {
   "cell_type": "code",
   "execution_count": 40,
   "id": "7918e204",
   "metadata": {},
   "outputs": [
    {
     "name": "stdout",
     "output_type": "stream",
     "text": [
      "Payload: {'source_id': '72d173ac-ccd9-4a74-9edf-a1dae8abbf24', 'target_id': '0a1baa66-565e-430d-9365-f1b6cb99a229', 'type': 'AUTHORED_BY', 'metadata': {'confidence': 'HIGH', 'source': 'unit-test', 'extractionMethod': 'MANUAL', 'tags': ['example', 'test']}, 'evidence_count': 1, 'is_inferred': False}\n",
      "400 {'success': False, 'error': 'Relationship validation failed: Source entity ID is required and must be a non-empty string, Target entity ID is required and must be a non-empty string, Source and target entity IDs cannot be the same, Invalid confidence level: undefined. Must be one of: LOW, MEDIUM, HIGH, CRITICAL, Evidence count must be a non-negative number, isInferred must be a boolean value', 'code': 'VALIDATION_ERROR', 'timestamp': '2025-08-09T10:08:40.252Z'}\n",
      "Raw response: {\"success\":false,\"error\":\"Relationship validation failed: Source entity ID is required and must be a non-empty string, Target entity ID is required and must be a non-empty string, Source and target entity IDs cannot be the same, Invalid confidence level: undefined. Must be one of: LOW, MEDIUM, HIGH, CRITICAL, Evidence count must be a non-negative number, isInferred must be a boolean value\",\"code\":\"VALIDATION_ERROR\",\"timestamp\":\"2025-08-09T10:08:40.252Z\"}\n"
     ]
    }
   ],
   "source": [
    "# POST /relationships (Knowledge Graph Service)\n",
    "relationship_payload = {\n",
    "    \"source_id\": \"72d173ac-ccd9-4a74-9edf-a1dae8abbf24\",  # Example: API Design Guidelines\n",
    "    \"target_id\": \"0a1baa66-565e-430d-9365-f1b6cb99a229\",  # Example: John Smith\n",
    "    \"type\": \"AUTHORED_BY\",\n",
    "    \"metadata\": {\n",
    "        \"confidence\": \"HIGH\",  # Must be one of: LOW, MEDIUM, HIGH, CRITICAL\n",
    "        \"source\": \"unit-test\",\n",
    "        \"extractionMethod\": \"MANUAL\",\n",
    "        \"tags\": [\"example\", \"test\"]\n",
    "    },\n",
    "    \"evidence_count\": 1,  # Non-negative integer\n",
    "    \"is_inferred\": False  # Boolean value\n",
    "}\n",
    "print('Payload:', relationship_payload)\n",
    "response = requests.post('http://localhost:3001/api/v1/relationships', json=relationship_payload, headers=kg_headers)\n",
    "print(response.status_code, response.json())\n",
    "print('Raw response:', response.text)"
   ]
  },
  {
   "cell_type": "code",
   "execution_count": 36,
   "id": "4531cdcf",
   "metadata": {},
   "outputs": [
    {
     "name": "stdout",
     "output_type": "stream",
     "text": [
      "200 {'success': True, 'data': [{'id': 'c786977f-dd71-46db-b33b-6909f8a01be6', 'sourceEntityId': '0a1baa66-565e-430d-9365-f1b6cb99a229', 'targetEntityId': '72d173ac-ccd9-4a74-9edf-a1dae8abbf24', 'type': 'AUTHORED_BY', 'weight': 0.9, 'confidence': 'HIGH', 'properties': {'authorshipDate': '2024-01-10', 'contributionLevel': 'primary'}, 'metadata': {'source': 'Documentation_System', 'extractionMethod': 'MANUAL', 'evidenceCount': 1, 'isInferred': False, 'context': 'John Smith authored the API Design Guidelines document'}, 'tenantId': 'default', 'createdAt': '2025-08-06T23:31:00.299Z', 'updatedAt': '2025-08-06T23:31:00.299Z', 'sourceEntity': {'id': '0a1baa66-565e-430d-9365-f1b6cb99a229', 'type': 'PERSON', 'name': 'John Smith', 'description': 'Senior Software Engineer', 'properties': {'email': 'john.smith@example.com', 'department': 'Engineering', 'role': 'Senior Developer'}, 'metadata': {'confidence': 'HIGH', 'importance': 'SIGNIFICANT', 'source': 'HR_System', 'extractionMethod': 'API_INTEGRATION', 'tags': ['developer', 'senior', 'engineering'], 'aliases': ['J. Smith', 'John']}, 'tenantId': 'default', 'createdAt': '2025-08-06T23:31:00.153Z', 'updatedAt': '2025-08-06T23:31:00.153Z'}, 'targetEntity': {'id': '72d173ac-ccd9-4a74-9edf-a1dae8abbf24', 'type': 'DOCUMENT', 'name': 'API Design Guidelines', 'description': 'Company-wide API design standards and best practices', 'properties': {'format': 'markdown', 'version': '2.1', 'lastUpdated': '2024-01-15', 'url': 'https://docs.company.com/api-guidelines'}, 'metadata': {'confidence': 'HIGH', 'importance': 'CRITICAL', 'source': 'Documentation_System', 'extractionMethod': 'MANUAL', 'tags': ['api', 'guidelines', 'standards', 'documentation'], 'aliases': ['API Guidelines', 'Design Standards']}, 'tenantId': 'default', 'createdAt': '2025-08-06T23:31:00.214Z', 'updatedAt': '2025-08-06T23:31:00.214Z'}}, {'id': 'a46f89e4-190c-4246-a13f-6cea2f89b31b', 'sourceEntityId': '72d173ac-ccd9-4a74-9edf-a1dae8abbf24', 'targetEntityId': 'd9fdb1e1-e48f-456c-959f-297c2552d0e8', 'type': 'REFERENCES', 'weight': 0.8, 'confidence': 'MEDIUM', 'properties': {'referenceType': 'specification', 'relevance': 'high'}, 'metadata': {'source': 'Document_Analysis', 'extractionMethod': 'NLP', 'evidenceCount': 5, 'isInferred': True, 'context': 'API Design Guidelines document references Knowledge Graph API specifications'}, 'tenantId': 'default', 'createdAt': '2025-08-06T23:31:00.325Z', 'updatedAt': '2025-08-06T23:31:00.325Z', 'sourceEntity': {'id': '72d173ac-ccd9-4a74-9edf-a1dae8abbf24', 'type': 'DOCUMENT', 'name': 'API Design Guidelines', 'description': 'Company-wide API design standards and best practices', 'properties': {'format': 'markdown', 'version': '2.1', 'lastUpdated': '2024-01-15', 'url': 'https://docs.company.com/api-guidelines'}, 'metadata': {'confidence': 'HIGH', 'importance': 'CRITICAL', 'source': 'Documentation_System', 'extractionMethod': 'MANUAL', 'tags': ['api', 'guidelines', 'standards', 'documentation'], 'aliases': ['API Guidelines', 'Design Standards']}, 'tenantId': 'default', 'createdAt': '2025-08-06T23:31:00.214Z', 'updatedAt': '2025-08-06T23:31:00.214Z'}, 'targetEntity': {'id': 'd9fdb1e1-e48f-456c-959f-297c2552d0e8', 'type': 'API', 'name': 'Knowledge Graph API', 'description': 'REST API for knowledge graph operations', 'properties': {'version': 'v1', 'baseUrl': 'https://api.cognisync.com/kg/v1', 'methods': ['GET', 'POST', 'PUT', 'DELETE'], 'authentication': 'API_KEY'}, 'metadata': {'confidence': 'HIGH', 'importance': 'SIGNIFICANT', 'source': 'API_Registry', 'extractionMethod': 'MANUAL', 'tags': ['api', 'knowledge-graph', 'rest'], 'aliases': ['KG API', 'Graph API']}, 'tenantId': 'default', 'createdAt': '2025-08-06T23:31:00.247Z', 'updatedAt': '2025-08-06T23:31:00.247Z'}}], 'timestamp': '2025-08-09T10:01:38.243Z'}\n"
     ]
    }
   ],
   "source": [
    "# GET /entities/:id/relationships (Knowledge Graph Service)\n",
    "entity_id = '72d173ac-ccd9-4a74-9edf-a1dae8abbf24'  # Replace with actual entity ID\n",
    "response = requests.get(f'http://localhost:3001/api/v1/entities/{entity_id}/relationships', headers=kg_headers)\n",
    "print(response.status_code, response.json())"
   ]
  },
  {
   "cell_type": "code",
   "execution_count": 37,
   "id": "caa7f0d2",
   "metadata": {},
   "outputs": [
    {
     "name": "stdout",
     "output_type": "stream",
     "text": [
      "404 {'success': False, 'error': 'Endpoint not found', 'message': 'The requested endpoint GET /api/v1/relationships/c786977f-dd71-46db-b33b-6909f8a01be6 was not found', 'documentation': 'http://localhost:3001/api/v1/docs', 'timestamp': '2025-08-09T10:03:22.397Z'}\n"
     ]
    }
   ],
   "source": [
    "# GET /relationships/:id (Knowledge Graph Service) - INVALID ENDPOINT\n",
    "# This endpoint does not exist. To fetch a specific relationship, use GET /entities/:id/relationships\n",
    "# and filter the results for the desired relationship ID.\n",
    "# Example: See the cell above for GET /entities/:id/relationships.\n",
    "print(\"ERROR: GET /api/v1/relationships/:id is not a valid endpoint. Use GET /entities/:id/relationships instead.\")"
   ]
  },
  {
   "cell_type": "code",
   "execution_count": 38,
   "id": "4c9c8fdb",
   "metadata": {},
   "outputs": [
    {
     "name": "stdout",
     "output_type": "stream",
     "text": [
      "404 {'success': False, 'error': 'Endpoint not found', 'message': 'The requested endpoint PUT /api/v1/relationships/c786977f-dd71-46db-b33b-6909f8a01be6 was not found', 'documentation': 'http://localhost:3001/api/v1/docs', 'timestamp': '2025-08-09T10:06:13.682Z'}\n"
     ]
    }
   ],
   "source": [
    "# PUT /relationships/:id (Knowledge Graph Service) - INVALID ENDPOINT\n",
    "# This endpoint does not exist. Updating relationships is not supported by the API.\n",
    "print(\"ERROR: PUT /api/v1/relationships/:id is not a valid endpoint. Relationship updates are not supported.\")"
   ]
  },
  {
   "cell_type": "code",
   "execution_count": 39,
   "id": "58043ba9",
   "metadata": {},
   "outputs": [
    {
     "name": "stdout",
     "output_type": "stream",
     "text": [
      "200 {'success': True, 'message': 'Relationship deleted successfully', 'timestamp': '2025-08-09T10:07:25.056Z'}\n"
     ]
    }
   ],
   "source": [
    "# DELETE /relationships/:id (Knowledge Graph Service)\n",
    "relationship_id = 'c786977f-dd71-46db-b33b-6909f8a01be6'  # Replace with actual relationship ID\n",
    "response = requests.delete(f'http://localhost:3001/api/v1/relationships/{relationship_id}', headers=kg_headers)\n",
    "print(response.status_code, response.json())"
   ]
  },
  {
   "cell_type": "markdown",
   "id": "00f088a2",
   "metadata": {},
   "source": [
    "### GET /analytics/entities (Knowledge Graph Service)"
   ]
  },
  {
   "cell_type": "code",
   "execution_count": 41,
   "id": "81a414b3",
   "metadata": {},
   "outputs": [
    {
     "name": "stdout",
     "output_type": "stream",
     "text": [
      "404 {'success': False, 'error': 'Endpoint not found', 'message': 'The requested endpoint GET /api/v1/analytics/entities was not found', 'documentation': 'http://localhost:3001/api/v1/docs', 'timestamp': '2025-08-09T10:09:01.953Z'}\n"
     ]
    }
   ],
   "source": [
    "# GET /analytics/entities (Knowledge Graph Service) - INVALID ENDPOINT\n",
    "# This endpoint does not exist in the Knowledge Graph Service API.\n",
    "print(\"ERROR: GET /api/v1/analytics/entities is not a valid endpoint.\")"
   ]
  },
  {
   "cell_type": "markdown",
   "id": "6f24ec32",
   "metadata": {},
   "source": [
    "### GET /analytics/relationships (Knowledge Graph Service)"
   ]
  },
  {
   "cell_type": "code",
   "execution_count": 44,
   "id": "1b173954",
   "metadata": {},
   "outputs": [
    {
     "name": "stdout",
     "output_type": "stream",
     "text": [
      "404 {'error': 'Endpoint not found', 'code': 'NOT_FOUND', 'path': '/analytics/relationships', 'method': 'GET', 'timestamp': '2025-08-09T10:20:48.002Z'}\n"
     ]
    }
   ],
   "source": [
    "# GET /analytics/relationships (Knowledge Graph Service) - INVALID ENDPOINT\n",
    "# This endpoint does not exist in the LLM/RAG Service API.\n",
    "print(\"ERROR: GET /analytics/relationships is not a valid endpoint in the LLM/RAG Service API.\")"
   ]
  },
  {
   "cell_type": "markdown",
   "id": "99474fc0",
   "metadata": {},
   "source": [
    "### Additional Knowledge Graph Service Endpoints\n",
    "The following cells demonstrate usage of endpoints not previously covered in this notebook."
   ]
  },
  {
   "cell_type": "code",
   "execution_count": 45,
   "id": "505515e4",
   "metadata": {},
   "outputs": [
    {
     "name": "stdout",
     "output_type": "stream",
     "text": [
      "200 {'success': True, 'data': {'entities': [], 'relationships': []}, 'timestamp': '2025-08-09T10:29:35.268Z'}\n"
     ]
    }
   ],
   "source": [
    "# GET /entities/{id}/neighborhood (Knowledge Graph Service)\n",
    "entity_id = 'fcdc1a52-fc4e-43f8-8d7e-7376dbf3567d'  # Replace with a valid entity ID\n",
    "params = {'depth': 2}  # Example: get neighborhood up to 2 hops away\n",
    "try:\n",
    "    response = requests.get(f'http://localhost:3001/api/v1/entities/{entity_id}/neighborhood', headers=kg_headers, params=params)\n",
    "    print(response.status_code, response.json())\n",
    "except Exception as e:\n",
    "    print('Request failed:', e)"
   ]
  },
  {
   "cell_type": "code",
   "execution_count": 46,
   "id": "d904c06f",
   "metadata": {},
   "outputs": [
    {
     "name": "stdout",
     "output_type": "stream",
     "text": [
      "201 {'success': True, 'data': {'created': 2, 'failed': 0, 'results': [{'index': 0, 'success': True, 'data': {'id': '69fc2e7f-d48c-481e-a76d-5fbfaf61d9e5', 'type': 'DOCUMENT', 'name': 'Bulk Document 1', 'description': 'First bulk document.', 'properties': {'format': 'pdf'}, 'metadata': {'confidence': 'HIGH', 'importance': 'CRITICAL', 'source': 'bulk-test', 'extractionMethod': 'MANUAL', 'tags': ['bulk'], 'aliases': ['Doc1']}, 'tenantId': 'default', 'createdAt': '2025-08-09T10:29:38.653Z', 'updatedAt': '2025-08-09T10:29:38.653Z'}}, {'index': 1, 'success': True, 'data': {'id': '8f962aeb-eb3f-45d7-979c-1e25c99fc7c0', 'type': 'PERSON', 'name': 'Bulk User', 'description': 'Second bulk entity.', 'properties': {'role': 'Tester'}, 'metadata': {'confidence': 'MEDIUM', 'importance': 'SIGNIFICANT', 'source': 'bulk-test', 'extractionMethod': 'MANUAL', 'tags': ['bulk'], 'aliases': ['User']}, 'tenantId': 'default', 'createdAt': '2025-08-09T10:29:38.685Z', 'updatedAt': '2025-08-09T10:29:38.685Z'}}], 'errors': []}, 'message': 'Bulk operation completed: 2 created, 0 failed', 'timestamp': '2025-08-09T10:29:38.700Z'}\n"
     ]
    }
   ],
   "source": [
    "# POST /entities/bulk (Knowledge Graph Service)\n",
    "bulk_entities_payload = {\n",
    "    \"entities\": [\n",
    "        {\n",
    "            \"type\": \"DOCUMENT\",\n",
    "            \"name\": \"Bulk Document 1\",\n",
    "            \"description\": \"First bulk document.\",\n",
    "            \"tenantId\": \"default\",\n",
    "            \"properties\": {\"format\": \"pdf\"},\n",
    "            \"metadata\": {\"confidence\": \"HIGH\", \"importance\": \"CRITICAL\", \"source\": \"bulk-test\", \"extractionMethod\": \"MANUAL\", \"tags\": [\"bulk\"], \"aliases\": [\"Doc1\"]}\n",
    "        },\n",
    "        {\n",
    "            \"type\": \"PERSON\",\n",
    "            \"name\": \"Bulk User\",\n",
    "            \"description\": \"Second bulk entity.\",\n",
    "            \"tenantId\": \"default\",\n",
    "            \"properties\": {\"role\": \"Tester\"},\n",
    "            \"metadata\": {\"confidence\": \"MEDIUM\", \"importance\": \"SIGNIFICANT\", \"source\": \"bulk-test\", \"extractionMethod\": \"MANUAL\", \"tags\": [\"bulk\"], \"aliases\": [\"User\"]}\n",
    "        }\n",
    "    ]\n",
    "}\n",
    "try:\n",
    "    response = requests.post('http://localhost:3001/api/v1/entities/bulk', json=bulk_entities_payload, headers=kg_headers)\n",
    "    print(response.status_code, response.json())\n",
    "except Exception as e:\n",
    "    print('Request failed:', e)"
   ]
  },
  {
   "cell_type": "code",
   "execution_count": 47,
   "id": "2369033d",
   "metadata": {},
   "outputs": [
    {
     "name": "stdout",
     "output_type": "stream",
     "text": [
      "201 {'success': False, 'data': {'created': 0, 'failed': 2, 'results': [], 'errors': [{'index': 0, 'success': False, 'error': 'Relationship validation failed: Source entity ID is required and must be a non-empty string, Target entity ID is required and must be a non-empty string, Source and target entity IDs cannot be the same, Invalid confidence level: undefined. Must be one of: LOW, MEDIUM, HIGH, CRITICAL, Evidence count must be a non-negative number, isInferred must be a boolean value'}, {'index': 1, 'success': False, 'error': 'Relationship validation failed: Source entity ID is required and must be a non-empty string, Target entity ID is required and must be a non-empty string, Source and target entity IDs cannot be the same, Invalid relationship type: MENTIONS. Must be one of: AUTHORED_BY, ASSIGNED_TO, DEPENDS_ON, REFERENCES, IMPLEMENTS, MANAGES, PARTICIPATES_IN, RELATES_TO, CONTAINS, USES, Invalid confidence level: undefined. Must be one of: LOW, MEDIUM, HIGH, CRITICAL, Evidence count must be a non-negative number, isInferred must be a boolean value'}]}, 'message': 'Bulk operation completed: 0 created, 2 failed', 'timestamp': '2025-08-09T10:32:36.465Z'}\n"
     ]
    }
   ],
   "source": [
    "# POST /relationships/bulk (Knowledge Graph Service)\n",
    "bulk_relationships_payload = {\n",
    "    \"relationships\": [\n",
    "        {\n",
    "            \"source_id\": \"72d173ac-ccd9-4a74-9edf-a1dae8abbf24\",  # Example: API Design Guidelines\n",
    "            \"target_id\": \"0a1baa66-565e-430d-9365-f1b6cb99a229\",  # Example: John Smith\n",
    "            \"type\": \"AUTHORED_BY\",\n",
    "            \"metadata\": {\"confidence\": \"HIGH\", \"source\": \"bulk-test\", \"extractionMethod\": \"MANUAL\", \"tags\": [\"bulk\"], \"aliases\": []},\n",
    "            \"evidence_count\": 1,\n",
    "            \"is_inferred\": False\n",
    "        },\n",
    "        {\n",
    "            \"source_id\": \"d5fc0f03-84bc-4a7e-b891-d4d804deeeca\",  # Example: Knowledge Graph\n",
    "            \"target_id\": \"fcdc1a52-fc4e-43f8-8d7e-7376dbf3567d\",  # Example: Alice\n",
    "            \"type\": \"MENTIONS\",\n",
    "            \"metadata\": {\"confidence\": \"MEDIUM\", \"source\": \"bulk-test\", \"extractionMethod\": \"MANUAL\", \"tags\": [\"bulk\"], \"aliases\": []},\n",
    "            \"evidence_count\": 2,\n",
    "            \"is_inferred\": True\n",
    "        }\n",
    "    ]\n",
    "}\n",
    "try:\n",
    "    response = requests.post('http://localhost:3001/api/v1/relationships/bulk', json=bulk_relationships_payload, headers=kg_headers)\n",
    "    print(response.status_code, response.json())\n",
    "except Exception as e:\n",
    "    print('Request failed:', e)"
   ]
  },
  {
   "cell_type": "code",
   "execution_count": 48,
   "id": "7a48aa12",
   "metadata": {},
   "outputs": [
    {
     "name": "stdout",
     "output_type": "stream",
     "text": [
      "200 {'success': True, 'data': {'nodeCount': 13, 'edgeCount': 9, 'density': 0.057692307692307696, 'insights': [{'type': 'GRAPH_SIZE', 'description': 'The knowledge graph contains 13 entities and 9 relationships', 'importance': 'MODERATE', 'metrics': {'nodes': 13, 'edges': 9, 'size': 22}}, {'type': 'DENSITY', 'description': 'Graph density is 5.77%', 'importance': 'MODERATE', 'metrics': {'density': 0.057692307692307696, 'percentage': 5.769230769230769}}], 'lastCalculated': '2025-08-09T10:34:04.077Z'}, 'timestamp': '2025-08-09T10:34:04.077Z'}\n"
     ]
    }
   ],
   "source": [
    "# GET /analytics (Knowledge Graph Service)\n",
    "try:\n",
    "    response = requests.get('http://localhost:3001/api/v1/analytics', headers=kg_headers)\n",
    "    print(response.status_code, response.json())\n",
    "except Exception as e:\n",
    "    print('Request failed:', e)"
   ]
  },
  {
   "cell_type": "markdown",
   "id": "02c7f317",
   "metadata": {},
   "source": [
    "### LLM-RAG Service API Endpoint Tests\n",
    "The following cells demonstrate usage of the LLM-RAG Service API endpoints as defined in the OpenAPI specification."
   ]
  },
  {
   "cell_type": "code",
   "execution_count": 49,
   "id": "d1804d96",
   "metadata": {},
   "outputs": [
    {
     "name": "stdout",
     "output_type": "stream",
     "text": [
      "200 {'sessionId': 'session_1754735977097', 'response': 'I apologize, but I encountered an error while generating a response. Please try rephrasing your query.', 'confidence': 0.5, 'processingTime': 2463, 'sources': [{'documentId': 'test-embed-1754678352937', 'title': 'This is a test document about API management and knowledge graphs.', 'relevanceScore': 0.87602073, 'excerpt': 'This is a test document about API management and knowledge graphs...'}, {'documentId': 'test-embed-1754676703130', 'title': 'This is a test document about API management and knowledge graphs.', 'relevanceScore': 0.87602073, 'excerpt': 'This is a test document about API management and knowledge graphs...'}, {'documentId': 'test-doc-1754678353912', 'title': 'API Management Platform Overview', 'relevanceScore': 0.730265558, 'excerpt': 'API Management Platform provides comprehensive tools for managing APIs, including authentication, rate limiting, monitoring, and analytics. The platform supports multiple deployment models and integra...'}, {'documentId': 'test-doc-1754676704936', 'title': 'API Management Platform Overview', 'relevanceScore': 0.730265558, 'excerpt': 'API Management Platform provides comprehensive tools for managing APIs, including authentication, rate limiting, monitoring, and analytics. The platform supports multiple deployment models and integra...'}], 'enhancedContext': {'intent': 'technical', 'entities': [], 'keywords': ['What', 'knowledge', 'graph?'], 'urgency': 'medium', 'complexity': 'moderate', 'expandedQuery': {'original': 'What is a knowledge graph?', 'expanded': 'What is a knowledge graph?', 'synonyms': [], 'relatedTerms': [], 'suggestions': []}, 'semanticEmbedding': [0.007868701592087746, 0.0068296887911856174, 0.002000264823436737, -0.030945371836423874, -0.011892394162714481, 0.0012276233173906803, -0.02051553688943386, -0.01111809816211462, -0.001261540106497705, -0.036107346415519714, 0.02385096624493599, -0.00943714752793312, -0.02284504473209381, 0.0007436882588081062, 0.0014824130339547992, 0.007048079743981361, 0.02584957703948021, -0.009139341302216053, 0.007703253533691168, -0.004242083989083767, -0.01417557429522276, 0.006075246259570122, 0.0016478609759360552, 0.007809140253812075, 0.008907713927328587, 0.013533636927604675, 0.022117072716355324, -0.022831808775663376, -0.008729030378162861, 0.0034446250647306442, 0.022064130753278732, -0.0049932170659303665, -0.012653454206883907, -0.01763012632727623, -0.008603289723396301, 0.011402668431401253, 0.008967275731265545, -0.015432978980243206, 0.014678535982966423, 0.002193839056417346, 0.0130637651309371, -0.004741736222058535, -0.00996658019721508, -0.023255353793501854, 0.001894378219731152, 0.007451772689819336, 0.004910493269562721, -0.02265974134206772, -0.014122631400823593, 0.013712320476770401, -0.0005732768913730979, 0.027451112866401672, -0.023175939917564392, 0.006737038027495146, -0.019337547942996025, -0.013791735284030437, 0.0035670564975589514, 0.011521791107952595, 0.027689358219504356, -0.0014013436157256365, 0.0037093416322022676, -0.0061381165869534016, 0.001158962375484407, -0.013712320476770401, 0.0034214621409773827, -0.007683399599045515, -0.022222960367798805, 0.008616525679826736, -0.0004706992185674608, -0.012567421421408653, 0.03549849987030029, 0.05127560719847679, -0.005198372527956963, -0.0036497802939265966, 0.008914331905543804, -0.015459449961781502, -0.005370438098907471, -0.006677476689219475, -0.012560803443193436, 0.01849045604467392, -0.0017818737542256713, -0.0113828144967556, 0.00578736700117588, 0.026577549055218697, 0.0005430826568044722, 0.007332650013267994, 0.014757951721549034, 0.02967473305761814, 0.011012211441993713, -0.003993912134319544, 0.006422686856240034, 0.022884750738739967, 0.022395025938749313, -0.0018298536306247115, -0.02473776787519455, 0.013268920592963696, -0.007915026508271694, -0.008669469505548477, 0.010621754452586174, -0.04325469583272934, -0.012560803443193436, 0.012124020606279373, -0.007934880442917347, -0.006545118521898985, 0.005790675990283489, -0.014149103313684464, -0.0006514510605484247, 0.010615136474370956, 0.02909235656261444, -0.003970749210566282, 0.0034843324683606625, 0.03147480636835098, 0.006108335684984922, -0.016610966995358467, 0.009278316982090473, -0.015869760885834694, 0.038966286927461624, -0.03398961201310158, 0.028907055035233498, -0.02107144333422184, 0.026087822392582893, -0.008179743774235249, -0.0019555939361453056, -0.015459449961781502, -0.0022682903800159693, 0.019694916903972626, -0.023414185270667076, -0.026418717578053474, -0.023414185270667076, -0.014056452549993992, 0.0030492045916616917, 0.03083948604762554, -0.014665300026535988, 0.006128189619630575, -0.015141790732741356, 0.017841899767518044, 0.0029979157261550426, 0.023056816309690475, -0.023162703961133957, -0.03597498685121536, 0.012474770657718182, 0.0009107905789278448, -0.01096588559448719, -0.01084014493972063, -0.013447604142129421, 0.026802556589245796, -0.012342412024736404, 0.014718243852257729, 0.018252210691571236, -0.008590053766965866, 0.024552466347813606, 0.005181827582418919, 0.01702127791941166, 0.014705007895827293, 0.013791735284030437, -0.0024072667583823204, 0.008768738247454166, 0.005022997967898846, -0.005942888092249632, -0.002857284853234887, -0.011832832358777523, 0.002817577449604869, 0.011296781711280346, -0.004619305022060871, -0.0034181533847004175, 0.03150127828121185, -0.01106515433639288, -0.003957513254135847, 0.00025003310292959213, -0.020608188584446907, -0.01425499003380537, 0.033936671912670135, -0.02562456764280796, 0.00948347244411707, 0.0032096889335662127, 0.013043911196291447, 0.012223289348185062, 0.001615598564967513, -0.03454551845788956, 0.0016553060850128531, -0.0011391086736693978, 0.015499157831072807, 0.011786507442593575, 0.0013161379611119628, -0.01596241258084774, -0.02187882736325264, 0.024023033678531647, -0.012706397101283073, 0.013831443153321743, -0.0021839120890945196, 0.01643890142440796, 0.011012211441993713, 0.002023427514359355, 5.377056368160993e-05, -0.6603091359138489, -0.013440986163914204, 0.020899375900626183, -0.03454551845788956, 0.03144833445549011, 1.4282805750553962e-05, 0.006766818463802338, 0.00426855543628335, 0.005042851436883211, 0.013500547036528587, -0.017219815403223038, -0.012322558090090752, -0.004893948324024677, 0.0014997851103544235, -0.033274877816438675, -0.02501571923494339, 0.009648920968174934, -0.02137586660683155, 0.026418717578053474, 0.008583435788750648, -0.01228285115212202, 0.0102842403575778, 0.0014220245648175478, -0.01879487931728363, -0.026061350479722023, 0.018503692001104355, 0.008252540603280067, -0.019747858867049217, -0.0034214621409773827, 0.03999868035316467, -0.04177228361368179, 0.030018864199519157, 0.03467787802219391, -0.011475465260446072, 0.02648489736020565, -0.018252210691571236, -0.033936671912670135, 0.03340723738074303, -0.008781973272562027, 0.03663678094744682, -0.03229542821645737, -2.3136852178140543e-05, 0.01206445973366499, 0.00020732688426505774, 0.009013600647449493, 0.00083303009159863, -0.00753780547529459, 0.005721187684684992, 0.016928628087043762, -0.0044935643672943115, 0.0055524311028420925, -0.02521425671875477, -0.025743691250681877, 0.012746104970574379, 0.007570895366370678, 0.011131334118545055, 0.015432978980243206, 0.009106251411139965, 0.02706727385520935, -0.0026786013040691614, 0.009602595120668411, 0.02081996202468872, -0.032771915197372437, -0.01135634258389473, -0.020833197981119156, 0.01687568426132202, -0.013738792389631271, 0.01070116925984621, 0.006684094667434692, -0.0290394127368927, 0.037351515144109726, 0.005999140441417694, -0.007385593373328447, -0.009172430261969566, 0.017418352887034416, 0.017497768625617027, 0.03991926461458206, 0.013440986163914204, 0.008358427323400974, -0.013778500258922577, -0.017841899767518044, -0.006009066943079233, -0.02673637866973877, -0.005436617415398359, 0.04611363261938095, 0.007445154711604118, -0.039628077298402786, -0.007054697722196579, 0.002849012613296509, 0.008920949883759022, -0.01293802447617054, 0.018225738778710365, -0.012514477595686913, -0.017974257469177246, 0.0005141292931511998, 0.022778864949941635, 0.0032957219518721104, -0.012832137756049633, 0.014996196143329144, -0.013738792389631271, -0.006118262652307749, -0.013401278294622898, -0.0026157309766858816, 0.014294696971774101, 0.010866616852581501, 0.001210251240991056, -0.013844679109752178, -0.002657093107700348, 0.01024453341960907, -0.02665696293115616, 0.0005604547332040966, 0.008113563992083073, 0.008868006989359856, -0.007054697722196579, -0.032666031271219254, -0.023493599146604538, 0.029251186177134514, 0.0048906393349170685, -0.0027960692532360554, -0.016558025032281876, 0.014082923531532288, 0.002028390998020768, 0.028457036241889, 0.0015105392085388303, 0.004175904672592878, 2.614205868667341e-06, -0.004298335872590542, -0.011766653507947922, -0.024856889620423317, -0.009622449055314064, 0.008576818741858006, -0.0015899541322141886, -0.006505410652607679, -0.0015634824521839619, 0.015380035154521465, -0.0015179843176156282, 0.0014145794557407498, -0.020978791639208794, 0.005969359539449215, -0.019747858867049217, -0.018927238881587982, -0.020528772845864296, 0.021997950971126556, -0.009688627906143665, -0.02734522707760334, -0.012249761261045933, -0.016505081206560135, 0.0007420337642543018, -0.022170016542077065, -0.001619734801352024, -0.016227127984166145, -0.012309323064982891, -0.01743158884346485, 0.014360876753926277, 0.012726251035928726, -0.0007879455224610865, -0.00980113260447979, -0.02284504473209381, -0.02790113165974617, -0.034492574632167816, -0.02084643393754959, 0.011204130947589874, -0.004447238985449076, 0.00391449686139822, 0.008676087483763695, -0.03346018120646477, -0.00982760451734066, 0.02248767577111721, -0.020952319726347923, -0.022911222651600838, -0.0005352239240892231, -0.010330566205084324, -0.015300620347261429, 0.001375699182972312, 0.011654148809611797, -0.001092783291824162, -0.004563052672892809, 0.019668444991111755, 0.013189505785703659, -0.025161314755678177, -0.01320274081081152, 0.01588299684226513, -0.02340094931423664, -0.025187786668539047, 0.011018829420208931, 0.006733729038387537, 0.02309652417898178, 0.006296946667134762, -0.012362265959382057, -0.011389432474970818, -0.0022897988092154264, 0.05633169412612915, -0.023215647786855698, -0.004953509662300348, -0.03150127828121185, 0.012474770657718182, 0.011131334118545055, 0.002920155180618167, -0.00785546563565731, 0.025386324152350426, 0.038383908569812775, 0.025253964588046074, 0.012004898861050606, 0.008027531206607819, 0.012157110497355461, -0.009357732720673084, 0.0015361836412921548, -0.01743158884346485, 0.008735648356378078, -0.008920949883759022, 0.01616095006465912, -0.021084679290652275, -0.015525629743933678, 0.005592138506472111, 0.0050527784042060375, 0.018172794952988625, -0.018861059099435806, -0.004165977705270052, -0.055431660264730453, 0.0005910625914111733, 0.012554185464978218, -0.009768042713403702, 0.01598888263106346, 0.007054697722196579, 0.0038780984468758106, 0.016677146777510643, 0.015260912477970123, 0.04794017970561981, 0.013593197800219059, -0.04206347092986107, -0.0045531257055699825, 0.01209093164652586, 0.007048079743981361, 0.012997585348784924, 0.012031369842588902, 0.03242778405547142, 0.0009049999061971903, -0.02029052935540676, 0.017775719985365868, 0.0008284802897833288, -0.02046259492635727, 0.003682869952172041, 0.02195824310183525, -0.020886141806840897, 0.02081996202468872, -0.009311406873166561, 0.0325336717069149, -0.001694186357781291, -0.030548296868801117, 0.00653188256546855, -0.009066544473171234, -0.0035703652538359165, -0.006164588034152985, 0.015009432099759579, 0.02453923039138317, -0.02898646891117096, -0.00111594598274678, 0.014718243852257729, -0.024896597489714622, 0.03420138731598854, 0.008464314043521881, 0.008616525679826736, 0.01025776844471693, 0.0016056717140600085, 0.0011721982154995203, -0.02018464170396328, 0.0025561698712408543, 0.010178353637456894, -0.011415904387831688, 0.013308627530932426, 0.006068628281354904, -0.021442046388983727, -0.00698190089315176, -0.025743691250681877, 0.01170047465711832, -0.012461534701287746, 0.01760365441441536, 0.021203801035881042, -0.011779889464378357, 0.021746469661593437, -0.0025859505403786898, -0.025095134973526, -0.01064822543412447, 0.014241754077374935, -0.006419377867132425, -0.031077731400728226, -0.009847458451986313, 0.0064921751618385315, -0.01616095006465912, 0.02152146026492119, 0.007478244602680206, -0.0005484597641043365, -0.018424276262521744, -0.021746469661593437, -0.002743125893175602, -0.017060985788702965, 0.019006652757525444, -0.005681480281054974, -0.011634294874966145, 0.008695940487086773, -0.017947787418961525, 0.0096356850117445, 0.019972868263721466, -0.008504020981490612, 0.024327456951141357, 0.008318719454109669, -0.014877073466777802, -0.009132723324000835, 0.004837695974856615, -0.008861389011144638, 0.012362265959382057, 0.004877403844147921, 0.002802687231451273, -0.016955099999904633, -0.01454617828130722, 0.007941498421132565, -0.014056452549993992, 0.009251846000552177, 0.0027960692532360554, 0.002943317871540785, 0.004486946854740381, -0.03279838711023331, -0.0102180615067482, 0.0028109594713896513, 0.05071970447897911, 0.007650310173630714, -0.02385096624493599, 0.017034513875842094, -0.021203801035881042, -0.005704643204808235, -0.03740445896983147, -0.00617782399058342, 0.01252109557390213, 0.019866982474923134, 0.004473710898309946, -0.007822375744581223, -0.00043181897490285337, -0.01735217496752739, -0.014638829044997692, 0.012580657377839088, -0.02526720054447651, -0.01687568426132202, -0.01679626852273941, -0.017444824799895287, 0.004298335872590542, 0.002172330627217889, 0.008517256937921047, 0.030627712607383728, -0.008887859992682934, 0.0005712088313885033, 0.0018662521615624428, 0.02168028987944126, -0.012547567486763, -0.028059961274266243, 0.002873829798772931, -0.0005588002386502922, 0.010515867732465267, -0.008517256937921047, -0.015816817060112953, 0.04600774869322777, 0.007941498421132565, 0.02584957703948021, 0.005115648731589317, 0.008834917098283768, 0.010595282539725304, 0.0005480461404658854, 0.0136461416259408, -0.008775356225669384, 0.0037126506213098764, -0.007213527802377939, 0.01043645292520523, 0.009139341302216053, -0.006260547786951065, 0.004367824178189039, -0.0020482446998357773, 0.005145429167896509, -0.046987198293209076, -0.003113729180768132, 0.00785546563565731, 0.015750639140605927, 0.012454916723072529, -0.005254624877125025, -0.004586215130984783, -0.03475729003548622, -0.012971114367246628, -0.004281791392713785, -0.007901790551841259, -0.014956489205360413, 0.006545118521898985, -0.048760801553726196, 0.015909468755126, -0.02185235731303692, -0.02026405744254589, 0.02165381982922554, 0.007326032500714064, -0.0278746597468853, -0.0357632152736187, -0.03139539062976837, 0.0329836905002594, 0.0014989578630775213, 0.023798024281859398, -0.0028903745114803314, -0.02709374576807022, 0.011177659034729004, -0.022342082113027573, -0.02126998081803322, -0.005688098259270191, -0.023083288222551346, -0.0026322759222239256, -0.006723802071064711, -0.0017074221977964044, 0.019734622910618782, 0.007107641082257032, 0.0007511333678849041, 0.00043140535126440227, -0.012276233173906803, 0.014625593088567257, -0.01093941368162632, 0.0027596706058830023, 0.0023146159946918488, 0.025174550712108612, 0.03568379953503609, -0.0002746434765867889, -0.023453891277313232, -0.002157440409064293, 0.007742960937321186, -0.008417988196015358, -0.01565798744559288, 0.013268920592963696, 0.006895867642015219, 0.012660072185099125, -0.004099798388779163, 0.0023146159946918488, -0.014307932928204536, 0.0034479338210076094, -0.035048481076955795, 0.01613447815179825, -0.019641973078250885, 0.0290394127368927, 0.020316999405622482, 0.02595546469092369, 0.022858278825879097, -0.023890674114227295, -0.02696138806641102, -0.036186762154102325, 0.0005641772877424955, -0.0016007082303985953, 0.025386324152350426, 0.0008181398152373731, 0.006108335684984922, 0.015671223402023315, 0.02026405744254589, -0.016915392130613327, -0.01391085796058178, -0.009337878786027431, 0.004602760076522827, -0.00948347244411707, -0.021693525835871696, -0.0015990538522601128, 0.01332848146557808, -0.013632905669510365, 0.017511004582047462, -0.025452502071857452, 0.009139341302216053, -0.009126105345785618, -0.010608518496155739, 0.008947421796619892, -0.017458060756325722, -0.015922704711556435, -0.026643726974725723, -0.03547202795743942, -0.013566726818680763, 0.00941067561507225, 0.017338939011096954, -0.0008313755970448256, 0.008279012516140938, -0.02701433002948761, -0.018133088946342468, -0.0036497802939265966, -0.017511004582047462, -0.0017620199359953403, 0.009311406873166561, 0.04531948268413544, 0.0170742217451334, 0.010496013797819614, -0.006181132979691029, 0.001560173579491675, 0.0034214621409773827, -0.00491380225867033, -0.02673637866973877, 0.002637239173054695, 0.0024453196674585342, -0.024830417707562447, 0.006382979452610016, 0.018702229484915733, -0.018106617033481598, 0.0033354293555021286, 0.005135502200573683, 0.012997585348784924, 0.016915392130613327, 0.0003368932520970702, -0.007875319570302963, -0.020118461921811104, -0.033274877816438675, -0.018119852989912033, 0.02737169712781906, 0.013050529174506664, 0.008530492894351482, -0.022778864949941635, 0.0021078060381114483, 0.0060355388559401035, 0.0013302010484039783, 0.014307932928204536, 0.0009322988335043192, 0.03152775019407272, -0.011621059849858284, 0.025492209941148758, 0.003997220657765865, 0.023639192804694176, -0.032718975096940994, -0.0063895974308252335, -0.009450383484363556, 0.01829191856086254, 0.037245627492666245, 0.006687403656542301, 0.0005902353441342711, 0.002628966933116317, 0.016783032566308975, 0.02013169787824154, -0.013467458076775074, 0.0014609048375859857, 0.00766354613006115, 0.0011920520337298512, -0.025412794202566147, 0.001328546553850174, -0.01993316039443016, -0.015247677452862263, 0.009642302989959717, 0.008212832733988762, 0.016280071809887886, -0.016663910821080208, 0.020621424540877342, 0.004000529646873474, -0.037272099405527115, 0.014440291561186314, 0.025492209941148758, 0.038966286927461624, -0.004741736222058535, 0.026445189490914345, 0.0045961420983076096, 0.033830784261226654, 0.0073392679914832115, 0.01393732987344265, -0.0010042686481028795, -0.01588299684226513, 0.026921680197119713, 0.012461534701287746, -0.012170346453785896, -0.04455180466175079, -0.011323253624141216, 0.0027298901695758104, -0.0024320839438587427, -0.02795407548546791, 0.002648820634931326, 0.00928493496030569, -0.004824460484087467, 0.007134112995117903, -0.0097018638625741, -0.015234441496431828, 0.023824496194720268, 0.007008372340351343, 0.007524569984525442, -0.003179908264428377, 0.005578902550041676, -0.01598888263106346, 0.01322921272367239, -0.026842264458537102, 0.026723142713308334, -0.023189175873994827, -0.009251846000552177, -0.01417557429522276, 0.006280401721596718, 0.0060355388559401035, 0.0255451537668705, 0.02023758552968502, 0.02410244755446911, 0.007392211351543665, 0.003997220657765865, 0.025664275512099266, 0.016809504479169846, -0.006922339554876089, 0.01801396533846855, 0.019258134067058563, 0.02395685389637947, -0.011660766787827015, -0.022355318069458008, -0.017524240538477898, -0.009192284196615219, 0.01831839047372341, -0.014241754077374935, 0.0007581649115309119, 0.015909468755126, 0.0019158865325152874, 0.0034380070865154266, 0.004513418301939964, -0.010403363034129143, -0.009920255281031132, 0.009238610044121742, -0.0008810099679976702, -0.008808445185422897, -0.018397804349660873, 0.017458060756325722, 0.02701433002948761, -0.019244898110628128, -0.022897986695170403, -0.006482248194515705, 0.013579962775111198, 0.01715363748371601, 0.015115318819880486, -0.03258661553263664, -0.0013062109937891364, 0.026114294305443764, -0.01512855477631092, -0.009046690538525581, 0.04455180466175079, 0.02559809759259224, -0.020025812089443207, 0.011726945638656616, -0.0018645976670086384, -0.03454551845788956, 0.045848917216062546, -0.007815757766366005, -0.03396314010024071, -0.02790113165974617, 0.014612357132136822, 0.0039244238287210464, 0.005132193211466074, -0.011032065376639366, 0.01876840740442276, -0.013977037742733955, 0.00407332694157958, -0.00449687335640192, 0.0067535825073719025, 0.017616890370845795, -0.01565798744559288, -0.0020614806562662125, 0.02021111361682415, -0.03142186254262924, 0.0014195428229868412, 0.012269615195691586, -0.00914595928043127, -0.0016230437904596329, -0.03417491540312767, -0.014440291561186314, 0.00287713878788054, 0.0233480054885149, -0.01699480600655079, 0.01793455146253109, 0.007590748835355043, -0.017034513875842094, -0.03242778405547142, -0.0052281529642641544, -0.0016015354776754975, -0.0028440491296350956, 0.02514807879924774, 0.01995963230729103, -0.001548592234030366, 0.009423911571502686, -0.021005263552069664, -0.0002380381483817473, -0.015221205540001392, -0.015552100725471973, -0.04783429205417633, 0.009251846000552177, -0.007359121926128864, 0.019814038649201393, 0.010767348110675812, -0.03171304985880852, -0.0364779494702816, -0.025730455294251442, -0.013262302614748478, -0.003029350657016039, 0.011627676896750927, -0.0020482446998357773, 0.010469541884958744, 0.02223619632422924, 0.003014460438862443, -0.0021078060381114483, -0.008159889839589596, -0.0007685054442845285, 0.0018712155288085341, 0.01798749342560768, -0.004440621007233858, -0.0070348442532122135, 0.014969724230468273, 0.0043645151890814304, 0.0034578607883304358, -0.0272922832518816, 0.003974058199673891, 0.0026388936676084995, 0.001234241179190576, 0.026352539658546448, -0.008464314043521881, 0.0061546615324914455, -0.02498924918472767, -0.00354389357380569, 0.011951955035328865, 0.014890309423208237, 0.007690017577260733, -0.019840510562062263, 0.015022668056190014, -0.0039508952759206295, 0.00011529649782460183, -0.03197776526212692, 0.0008934185607358813, -0.004814533516764641, -0.010721023194491863, 0.01585652492940426, 0.0011035373900085688, -0.00938420370221138, -0.0023675591219216585, 0.01646537333726883, 0.008590053766965866, 0.0014294696738943458, 0.007551041431725025, 0.03777506202459335, 0.014996196143329144, -0.0019158865325152874, -0.016558025032281876, -0.00260249525308609, -0.03121008910238743, -0.0032973764464259148, 0.008027531206607819, -0.04161345213651657, 0.02723933942615986, -0.018675757572054863, 0.007729724980890751, -0.024777475744485855, -0.0074583906680345535, -0.0047318097203969955, -0.006935575511306524, -0.026696670800447464, 0.005003144033253193, 0.008841535076498985, -0.005942888092249632, -0.0008065584115684032, -0.009231992065906525, 0.019390491768717766, -0.0119651909917593, -0.0021673673763871193, -0.0003666738630272448, 0.005453162360936403, 0.0015030939830467105, 0.04330763965845108, -0.015168261714279652, -0.0010175044881179929, 0.018424276262521744, 0.03359253704547882, -0.011045300401747227, -0.00042147847125306726, 0.21611464023590088, -0.006009066943079233, -0.010323948226869106, 0.013421132229268551, -0.0040435465052723885, -0.01790807954967022, 0.030971843749284744, 0.015274148434400558, -0.0004508454876486212, -0.004930346738547087, 0.013778500258922577, -0.010264386422932148, -0.01541974302381277, 0.0010125410044565797, 0.0005455643986351788, -0.0039773671887815, -0.03197776526212692, -0.025174550712108612, -0.018477220088243484, -0.02362595871090889, 0.00174547522328794, 0.018331626430153847, 0.009668773971498013, -0.024380400776863098, 0.010224679484963417, 0.0011184277245774865, -0.006263856776058674, -0.020780254155397415, 0.013288774527609348, 0.02521425671875477, 0.018344860523939133, 0.00711425906047225, -0.00995334517210722, 0.006085173226892948, 0.0001837505551520735, 0.005893253721296787, 0.01943019963800907, -0.002000264823436737, 0.006541809532791376, 0.028827639296650887, 0.011137951165437698, -0.006895867642015219, -0.018477220088243484, -0.005393601022660732, 0.025187786668539047, 0.003019423922523856, 0.010529103688895702, -0.003537275828421116, 0.005572284571826458, 0.01952284947037697, -0.03142186254262924, 0.012726251035928726, 0.013791735284030437, 0.0334337092936039, -0.013070383109152317, -0.008206214755773544, -0.03533966839313507, -0.012633600272238255, 0.005135502200573683, -0.023864202201366425, -0.014506470412015915, 0.03081301413476467, 0.00110022840090096, 0.03589557483792305, 0.0026521296240389347, 0.009271699003875256, -0.021137621253728867, 0.02739816904067993, 0.022778864949941635, -0.0055193412117660046, -0.008781973272562027, -0.03144833445549011, 0.008874624967575073, -0.004506800323724747, -0.007656928151845932, -0.006674167700111866, 0.027980545535683632, 0.020780254155397415, 0.018861059099435806, 0.01970815286040306, -0.013123326003551483, 0.0023146159946918488, -0.016624202951788902, 0.000534396676812321, -0.03936336189508438, -0.014718243852257729, 0.013215976767241955, -0.009576123207807541, -0.017206579446792603, -0.01025776844471693, -7.109088619472459e-05, 0.026696670800447464, -0.02040965110063553, -0.010198207572102547, 0.008444460108876228, 0.01884782314300537, -0.022977402433753014, 0.017391880974173546, -0.0148108946159482, -0.0020250820089131594, -0.023811260238289833, 0.051460910588502884, 0.03986632078886032, 0.02195824310183525, -0.00698190089315176, 0.01856986992061138, -0.004563052672892809, 0.0012094239937141538, -0.009887165389955044, 0.0013773536775261164, -0.013831443153321743, -0.01096588559448719, 0.016862448304891586, -0.004020383581519127, -0.019800802692770958, 0.02418186329305172, -0.011501937173306942, 0.006144734565168619, 0.009648920968174934, -0.00851063895970583, 0.005956124048680067, -0.02273915708065033, 0.006647695787250996, 0.012236525304615498, -0.022593563422560692, -0.009364350698888302, 0.003722577355802059, -0.0076767816208302975, -0.036186762154102325, -0.05278449133038521, 0.02021111361682415, -0.022037658840417862, 0.003371827770024538, 0.0029582080896943808, -0.016888920217752457, 0.007392211351543665, 0.023533307015895844, -0.0010588665027171373, -0.015181497670710087, 0.011369578540325165, -0.0007498925551772118, -0.004265246447175741, 0.0019754476379603148, 0.0038814074359834194, 0.0006547599914483726, -0.006478939205408096, 0.012977732345461845, -0.001391416764818132, -0.011654148809611797, -0.022249432280659676, -0.021111149340867996, 0.004126270301640034, 0.005439926404505968, 0.006647695787250996, 0.033195462077856064, 0.012448298744857311, 0.02284504473209381, -0.0136461416259408, -0.0009058271534740925, 0.007319414522498846, -0.04306939244270325, 0.01790807954967022, 0.03568379953503609, -0.014969724230468273, 0.007729724980890751, 0.00039211148396134377, -0.1687833070755005, -0.00669071264564991, 0.010416598990559578, -0.046960726380348206, 0.008113563992083073, 0.020859669893980026, 0.03248072788119316, -0.012024751864373684, -0.00110022840090096, 0.025108370929956436, 0.001128354575484991, 0.002190530067309737, -0.02898646891117096, -0.028165847063064575, -0.007742960937321186, -0.006224149372428656, 0.017444824799895287, -0.0020730618853121996, 0.02423480525612831, 0.029383543878793716, 0.005999140441417694, -0.015790347009897232, 0.012117402628064156, 0.00014869628648739308, -0.012269615195691586, -0.026048114523291588, -0.023639192804694176, 0.022143544629216194, 0.004235466010868549, -0.01267330814152956, -0.009443765506148338, -0.012865227647125721, 0.011243837885558605, 0.012097549624741077, -0.0014592503430321813, -0.0019357402343302965, -0.0015527283539995551, -0.005747659597545862, -0.025690747424960136, 0.0021243507508188486, 0.03457199037075043, 0.016200656071305275, 0.019364019855856895, -0.0020217732526361942, -0.00014528392057400197, 0.011852686293423176, -0.004735118243843317, -0.011025447398424149, 0.0005765858804807067, 0.005764204077422619, 0.002172330627217889, -0.000884318957105279, 0.020250821486115456, -0.009463619440793991, 0.011184277012944221, 0.002610767725855112, 0.006075246259570122, 0.006015684921294451, -0.007504716049879789, -0.017497768625617027, -0.009079779498279095, -0.008848153054714203, -0.021719997748732567, -0.03457199037075043, 0.0022699448745697737, -0.007233381737023592, -0.02137586660683155, -0.019972868263721466, -0.022620035335421562, -0.0053472756408154964, -0.013302009552717209, 0.005542504135519266, 0.0016172530595213175, 0.022302374243736267, -0.014307932928204536, 0.011951955035328865, 0.003014460438862443, 0.008451078087091446, 0.01884782314300537, -0.010343802161514759, -0.010919560678303242, 0.01596241258084774, -0.016200656071305275, -0.00928493496030569, 0.00533734867349267, -0.024142155423760414, -0.009602595120668411, 0.001568445935845375, -0.007220145780593157, -0.016968335956335068, 0.00982760451734066, -0.027054037898778915, 0.0035637475084513426, -0.003514113137498498, 0.009311406873166561, 0.003160054562613368, -0.0010828564409166574, 0.012309323064982891, 0.016902156174182892, -0.017669834196567535, -0.0038681714795529842, 0.026008406654000282, -0.033883728086948395, -0.0003797028912231326, 0.05220211669802666, -0.00087273761164397, 0.012779194861650467, 0.013335099443793297, 0.03568379953503609, 0.0011209094664081931, -0.0153932711109519, 0.00410972535610199, 0.028059961274266243, 0.0011010556481778622, -0.018146323040127754, 0.01702127791941166, -0.004470401909202337, -0.00814665388315916, -0.000526537885889411, -0.007511334028095007, 0.04449886456131935, 0.030442411080002785, -0.00012822210555896163, -0.0017156945541501045, 0.0009686973644420505, 0.005648390855640173, -0.1015452966094017, -0.030045336112380028, 0.022884750738739967, 0.0014360876521095634, -0.002751398365944624, 0.019258134067058563, 0.004854240920394659, 0.003706032643094659, 0.00011312498827464879, 0.028695281594991684, -0.01682274043560028, -0.02737169712781906, -0.004099798388779163, -0.014069688506424427, 0.012759340927004814, 0.0016263526631519198, -0.02265974134206772, -0.006962046958506107, -0.0059064896777272224, 0.026074586436152458, 0.0011581352446228266, -0.01702127791941166, -0.008226068690419197, -0.003749049035832286, -0.0011151187354698777, -0.010138646699488163, -0.018583105877041817, 0.009238610044121742, 0.022196488454937935, 0.008384899236261845, 0.012143874540925026, -0.042354658246040344, 0.002680255798622966, -0.03245425596833229, 0.005251315888017416, 0.005565667059272528, -0.00324774207547307, -0.0102180615067482, 0.02498924918472767, -0.022527383640408516, -0.0050693233497440815, 0.022037658840417862, 0.0436517708003521, -0.032745447009801865, -0.006988518871366978, -0.016862448304891586, -0.016941864043474197, 0.03256014361977577, 0.025783399119973183, -0.006445849779993296, -0.028139377012848854, -0.027027565985918045, -0.021719997748732567, 0.0009562887717038393, 0.020052284002304077, 0.00598259549587965, -0.00426855543628335, 0.004192449618130922, 6.783362914575264e-05, 0.010562192648649216, -0.02565103955566883, 0.0028457036241889, -0.013844679109752178, 0.011442375369369984, 0.019231662154197693, 0.014453527517616749, -0.029727675020694733, -0.00011922587873414159, 0.023864202201366425, -0.01391085796058178, -0.014069688506424427, 0.00012956636783201247, -0.01715363748371601, 0.004870785865932703, -0.023692136630415916, 0.01990669034421444, -0.0070348442532122135, 0.002271599369123578, 0.008517256937921047, 0.0037358133122324944, -0.0068230708129704, -0.011766653507947922, -0.00010805814963532612, -0.01483736652880907, 0.017391880974173546, 0.015975648537278175, -0.008709176443517208, 0.007101023104041815, 0.0073127965442836285, -0.030045336112380028, 0.006293637678027153, 0.008232686668634415, 0.0008785282843746245, -0.020449358969926834, -0.01425499003380537, -3.0375196729437448e-05, 0.021309686824679375, -0.0027464348822832108, 0.00753780547529459, 0.022580327466130257, -0.010707787238061428, 0.00027216176385991275, -0.05249330401420593, 0.0023609413765370846, 0.012686544097959995, -0.008834917098283768, 0.014016744680702686, -0.0136461416259408, 0.008715794421732426, -0.005327421706169844, -0.004874094855040312, 0.03642500564455986, -0.021336158737540245, 0.010582046583294868, -0.01793455146253109, 0.0015750639140605927, -0.0059329611249268055, -0.01541974302381277, 0.04084577411413193, -0.001725621405057609, 0.017246287316083908, 0.012540949508547783, -0.02220972441136837, 0.028165847063064575, 0.02243473380804062, 0.006124880630522966, -0.007769432850182056, 0.01277257688343525, -0.011621059849858284, 0.035022009164094925, -0.04023692384362221, -0.029410015791654587, 0.03290427476167679, -0.0411369614303112, 0.015406507067382336, 0.04195758327841759, 0.016478609293699265, -0.0039773671887815, -0.012613746337592602, 0.0014898581430315971, 0.014029980637133121, 0.062367234379053116, -0.03467787802219391, -0.040633998811244965, -0.007299560587853193, -0.006505410652607679, -0.00165034260135144, 0.00856358278542757, 0.0014054797356948256, 0.005883326753973961, 0.02256709150969982, -0.002589259296655655, 0.021918535232543945, 0.006882632151246071, -0.009351114742457867, -0.011958573013544083, -0.005711261183023453, -0.01624036394059658, 0.01952284947037697, 0.02281857281923294, 0.012024751864373684, -0.019999340176582336, 0.01425499003380537, 0.014969724230468273, 0.00526786083355546, -0.011667384766042233, 0.009682009927928448, -0.0033734822645783424, -0.014625593088567257, 0.0011961881536990404, 0.02195824310183525, -0.03748387098312378, -0.003931041806936264, 0.009781278669834137, 0.009622449055314064, -0.0029383543878793716, 0.007875319570302963, -0.014056452549993992, 0.027689358219504356, 0.007127495016902685, -0.009648920968174934, 0.008762120269238949, 0.003006187966093421, -0.025717219337821007, 0.0033552830573171377, 0.0007329341024160385, 0.021137621253728867, 0.009337878786027431, 0.005555740091949701, -0.004374442156404257, 0.006207604426890612, 0.007623838726431131, 0.009615831077098846, 0.010204825550317764, -0.007802522275596857, -0.002892029006034136, -0.009390821680426598, -0.019536085426807404, -0.012203436344861984, 0.006548427045345306, 0.008709176443517208, 0.02532014437019825, 0.013156415894627571, -0.020224349573254585, -0.004079944919794798, -0.01952284947037697, -0.026074586436152458, 0.007127495016902685, -0.012388737872242928, -0.02498924918472767, 0.013249066658318043, 0.021389102563261986, 0.02109791338443756, 0.007769432850182056, -0.010429834946990013, 0.016809504479169846, 0.0006932266405783594, 0.011442375369369984, 0.0027729065623134375, -0.040713414549827576, -0.03361900895833969, 0.026273123919963837, 0.008365045301616192, -0.004056781996041536, 0.023467127233743668, -0.016650674864649773, 0.031183617189526558, 0.026643726974725723, 0.026299595832824707, -0.03467787802219391, -0.003062440315261483, -0.002377486089244485, -0.024062739685177803, -0.006005758419632912, -0.013004203327000141, 0.0031269649043679237, -0.024525994434952736, -0.01932431198656559, -0.03650442138314247, 0.022831808775663376, -0.014890309423208237, 0.07491480559110641, 0.019562557339668274, -0.006042156834155321, 0.0028043417260050774, -0.020065519958734512, 0.0015552100958302617, 0.01684921234846115, -0.006167897023260593, -0.01077396608889103, -0.037325043231248856, 0.026604019105434418, -0.01641242951154709, 0.00841137021780014, -0.011124716140329838, -0.011025447398424149, 0.0018778335070237517, 0.004642467480152845, 0.017894843593239784, 0.008656233549118042, 0.005277787335216999, 0.002003573812544346, -0.0069752829149365425, -0.006995136383920908, -6.245657277759165e-05, -0.02643195353448391, 0.007213527802377939, 0.02029052935540676, -0.01793455146253109, 0.025743691250681877, -0.029807090759277344, 0.022037658840417862, 0.007074551656842232, -0.03923100233078003, -0.004533272236585617, 0.005383674055337906, -0.0064326138235628605, 0.023665664717555046, -0.012077695690095425, 0.02565103955566883, 0.00032924130209721625, 0.03420138731598854, 0.014863837510347366, -0.01904636062681675, -0.052625663578510284, -0.008358427323400974, -0.0024784093257039785, -0.019615501165390015, -0.007901790551841259, -0.03083948604762554], 'confidenceScore': 0.5, 'processingMetadata': {'originalLength': 26, 'expandedLength': 26, 'entitiesFound': 0, 'processingTime': 409}}, 'analysis': {'complexity': 'moderate', 'intent': 'technical', 'entities': []}}\n"
     ]
    }
   ],
   "source": [
    "# POST /query (LLM-RAG Service)\n",
    "llm_base_url = 'http://localhost:3003/api'\n",
    "llm_headers = {'Authorization': f'Bearer {API_KEY}', 'Content-Type': 'application/json'}\n",
    "query_payload = {\n",
    "    \"query\": \"What is a knowledge graph?\",\n",
    "    \"context\": \"AI, data integration, semantic search\"\n",
    "}\n",
    "try:\n",
    "    response = requests.post(f'{llm_base_url}/query', json=query_payload, headers=llm_headers)\n",
    "    print(response.status_code, response.json())\n",
    "except Exception as e:\n",
    "    print('Request failed:', e)"
   ]
  },
  {
   "cell_type": "code",
   "execution_count": 53,
   "id": "5cb716ec",
   "metadata": {},
   "outputs": [
    {
     "name": "stdout",
     "output_type": "stream",
     "text": [
      "200 {'sessionId': 'session_1754737069362', 'response': 'I apologize, but I encountered an error while generating a response. Please try rephrasing your query.', 'context': {'intent': 'technical', 'entities': [], 'keywords': ['knowledge', 'graph'], 'urgency': 'medium', 'complexity': 'moderate', 'expandedQuery': {'original': 'knowledge graph', 'expanded': 'knowledge graph', 'synonyms': [], 'relatedTerms': [], 'suggestions': []}, 'semanticEmbedding': [-0.0039229849353432655, -0.001372014987282455, 0.016488205641508102, -0.0353102944791317, 0.0035694700200110674, 0.023091726005077362, -0.010186717845499516, -0.004980097059160471, -0.008429440669715405, -0.03333335742354393, 0.019124122336506844, -0.0021004958543926477, -0.005882760975509882, -0.0033309333957731724, -0.007983257062733173, 0.007646902929991484, 0.019371239468455315, -0.015609567053616047, 0.027732037007808685, -0.011731200851500034, -0.020414622500538826, 0.003984764218330383, 0.0030906805768609047, -0.012149927206337452, 0.015609567053616047, 0.014401438646018505, 0.0200576763600111, -0.029379483312368393, -0.016584306955337524, 0.0029430966824293137, 0.02123834565281868, -0.017641419544816017, -0.03445911407470703, -0.007763597182929516, -0.01538990717381239, 0.011003578081727028, 0.0037136217579245567, -0.01942615397274494, 0.012129333801567554, -0.008937403559684753, 0.00016560281801503152, -0.012472552247345448, 0.002810957608744502, -0.024807816371321678, 0.005028147716075182, 0.015376178547739983, -0.0035694700200110674, -0.01244509406387806, -0.011353660374879837, 0.015129061415791512, -0.0025295186787843704, 0.04349261894822121, -0.02108732983469963, 0.006085259839892387, -0.0028847495559602976, 0.000988468644209206, 0.005947972647845745, 0.01452499721199274, 0.013289411552250385, -0.015609567053616047, 0.013069751672446728, -0.013310004957020283, -0.013145259581506252, -0.010632902383804321, -0.011744929477572441, -0.009205114096403122, -0.023915449157357216, 0.001548772444948554, 0.008889352902770042, -0.005927379708737135, 0.02364087477326393, 0.04239432141184807, -0.026235604658722878, 0.0058553037233650684, 0.013824831694364548, -0.026235604658722878, 0.0034270344767719507, -0.0006448213243857026, -0.008896217681467533, 0.03094455972313881, 0.00254496349953115, -0.028995079919695854, 0.006061234511435032, 0.020496994256973267, 0.007132075726985931, 0.020661739632487297, 0.012973650358617306, 0.030450325459241867, 0.0033583908807486296, -0.013062886893749237, 0.01972818560898304, 0.003404725342988968, 0.011120271869003773, -0.0021331014577299356, -0.01735311560332775, 0.005591025575995445, -0.012040097266435623, -0.0001639939728192985, 0.008813844993710518, -0.034321825951337814, -0.014538725838065147, 0.013097208924591541, -0.01869853213429451, -0.008292153477668762, -0.005584161262959242, -0.00966502632945776, -0.002395663410425186, 0.00794893503189087, 0.01853378675878048, -0.01742175966501236, -0.011943995952606201, 0.03962111845612526, 0.008477491326630116, 0.002725152997300029, -0.009733670391142368, -0.027100514620542526, 0.024231210350990295, -0.025329507887363434, 0.013330597430467606, -0.02800661139190197, 0.009939600713551044, -0.003437330946326256, 0.013481613248586655, -0.013900339603424072, -0.006466232240200043, 0.04321804270148277, -0.014785842970013618, -0.022322915494441986, -0.02990117482841015, -0.016598034650087357, 0.015801768749952316, 0.01615871675312519, 0.007942071184515953, -0.008992318995296955, -0.027196615934371948, 0.03039540909230709, -0.004231881350278854, 0.01543109305202961, -0.012197976931929588, -0.0432729609310627, 0.009479688480496407, 0.019590899348258972, 0.0012184248771518469, -0.008889352902770042, -0.0253157801926136, 0.036792997270822525, 0.008539270609617233, 0.017147185280919075, 0.01591159962117672, -0.010310276411473751, 0.022473933175206184, 0.0014998638071119785, 0.01002883818000555, 0.007447836454957724, 0.004784462507814169, -0.007035974413156509, -0.0019340349826961756, 0.0045304810628294945, -0.017861079424619675, 0.0013128098798915744, -0.002049013040959835, 0.003778833197429776, 0.013797374442219734, 0.002357909455895424, 0.013817967846989632, 0.035118091851472855, -0.007097753696143627, 0.0034321825951337814, 0.01591159962117672, -0.023668332025408745, -0.013385512866079807, 0.04577158764004707, -0.02753983438014984, 0.00528899347409606, -0.002067890018224716, 0.017147185280919075, 0.01427788008004427, 0.011621370911598206, -0.02990117482841015, -0.005186027847230434, -0.002555259969085455, 0.01452499721199274, 0.01296678651124239, 0.010186717845499516, -0.0011566455941647291, -0.01758650504052639, 0.01725701428949833, -0.004406922496855259, 0.0005113952211104333, -0.016982439905405045, 0.01392779778689146, 0.021032415330410004, 0.005875896662473679, -0.014401438646018505, -0.66864413022995, -0.018506329506635666, 0.004859970882534981, -0.022968167439103127, 0.049368515610694885, 0.004757005255669355, -0.002780067967250943, 0.004317685961723328, 0.0025707047898322344, 0.01368068065494299, -0.021760039031505585, 0.011209508404135704, -0.009658162482082844, 0.004808487836271524, -0.01412686426192522, -0.01647447608411312, 0.004585396032780409, -0.032262519001960754, 0.02712797187268734, 0.02689458429813385, -0.00325027690269053, -0.012795177288353443, -0.00823723804205656, -0.0072830915451049805, -0.019110392779111862, -0.005536110606044531, 0.009603247046470642, -0.00783910509198904, -0.009335536509752274, 0.02458815649151802, -0.029461856931447983, 0.018671073019504547, 0.027306444942951202, -0.0057283127680420876, 0.0447007492184639, -0.005707719828933477, -0.025631539523601532, 0.038303159177303314, -0.0047261156141757965, 0.03072489984333515, -0.04464583098888397, -0.0037445113994181156, 0.0011051627807319164, 0.012829499319195747, 0.003444195259362459, 0.02998354844748974, 0.011964588426053524, 0.007495887111872435, 0.007125211413949728, -0.019522255286574364, 0.010035702027380466, -0.03396487981081009, -0.002881317399442196, 0.01336491946130991, -0.019110392779111862, 0.0007821086328476667, 0.017764978110790253, -0.0010614024940878153, 0.005021283403038979, 0.019632084295153618, 0.019371239468455315, 0.011085949838161469, -0.024327311664819717, -0.014813300222158432, -0.033937420696020126, 0.028047796338796616, -0.026070859283208847, 0.003308624029159546, 0.014538725838065147, -0.017147185280919075, 0.0335804745554924, 0.0017469809390604496, -0.008244102820754051, 0.0058724647387862206, 0.024450870230793953, 0.008539270609617233, 0.04703463241457939, -0.0008039887761697173, -0.009946465492248535, -0.0016174160409718752, -0.010042566806077957, 0.008065629750490189, -0.011559591628611088, -0.014566183090209961, 0.050000037997961044, 0.005117384251207113, -0.03550249710679054, -0.002205177443102002, 0.0028761690482497215, -0.0002131170913344249, -0.002426553051918745, 0.010097481310367584, -0.03382759168744087, -0.03231743350625038, 0.009157063439488411, 0.01600770093500614, -0.0033206366933882236, -0.010818240232765675, 0.021828681230545044, -0.02155410684645176, -0.0036243849899619818, -0.020730383694171906, -0.006483393255621195, 0.020153777673840523, 0.01997530274093151, 0.01245882362127304, -0.019439883530139923, -0.004870267119258642, 0.010873154737055302, -0.01894564926624298, -0.009019776247441769, 0.02793796733021736, 0.005783227737993002, -0.013042294420301914, -0.02130698971450329, -0.025521710515022278, 0.038769934326410294, 0.00548805994912982, 0.008250967599451542, -0.011751793324947357, 0.023105453699827194, 0.0013831696705892682, 0.014085677452385426, -0.005415984429419041, 0.01467601303011179, 0.018574973568320274, -0.02100495807826519, -0.012733398005366325, -0.003080383874475956, -0.0064284782856702805, 0.022295458242297173, -0.020799027755856514, 0.012273485772311687, -0.010886883363127708, 0.031081845983862877, -0.010255361907184124, 0.0005238368758000433, -0.017449216917157173, 0.0013651506742462516, -0.02785559557378292, -0.01854751445353031, -0.01244509406387806, 0.0061504715122282505, -0.0058724647387862206, -0.025672726333141327, -0.0019014292629435658, -0.02593357302248478, 0.005597889889031649, -0.014085677452385426, -0.002682250691577792, -0.002761190989986062, -0.005131113342940807, -0.0327567532658577, 0.01431906595826149, 0.017613962292671204, -0.018520057201385498, -0.00926689337939024, -0.016048885881900787, -0.015115332789719105, -0.02648272179067135, -0.01694125309586525, 0.01431906595826149, -0.015650752931833267, 0.0010185001883655787, 0.008326475508511066, -0.03956620395183563, 0.003936713561415672, 0.02984626032412052, -0.022171899676322937, -0.014305337332189083, 0.0019735051319003105, -0.008971725590527058, 0.003940145950764418, -0.00831274688243866, 0.01677650958299637, 0.010873154737055302, -0.01098298467695713, 0.0048256488516926765, 0.023448672145605087, -0.028583217412233353, -0.00382001930847764, 0.00915019866079092, -0.027553562074899673, -0.012705940753221512, 0.025411881506443024, 0.0016345770563930273, 0.012774583883583546, 0.025247136130928993, -0.025288322940468788, -0.0058724647387862206, -0.008525541983544827, 0.04104890674352646, -0.017435487359762192, -0.014428895898163319, -0.01431906595826149, 0.0230642668902874, 0.01169001404196024, 0.0066241128370165825, -0.005282129161059856, 0.006280894391238689, 0.028198812156915665, 0.02274850755929947, 0.008621643297374249, -0.006088692229241133, 0.01280204113572836, -0.005989158991724253, 0.00417696638032794, -0.026688652113080025, 0.013701273128390312, -0.010873154737055302, 0.023819347843527794, -0.027306444942951202, -0.007688089273869991, -0.0031627563294023275, 0.007255634292960167, 0.004358871839940548, -0.00485310610383749, -0.00915019866079092, -0.03256455063819885, -0.012616703286767006, 0.012911871075630188, -0.00835393276065588, 0.029489314183592796, 0.011628234758973122, 0.008401983417570591, 0.012177384458482265, 0.01189594529569149, 0.026153232902288437, 0.0008769226842559874, -0.025961030274629593, -0.0005663101328536868, 0.009774856269359589, 0.010845697484910488, -0.0005611618980765343, 0.016254818066954613, 0.029297111555933952, 0.014209236018359661, -0.03517301008105278, 0.03259200602769852, -0.004986961372196674, -0.012781448662281036, 0.001980369444936514, 0.013447292149066925, -0.028912706300616264, 0.010159260593354702, 0.0051997569389641285, 0.029544228687882423, -0.010351463221013546, -0.04406922683119774, 0.0018979969900101423, -0.007489022798836231, 0.0016208483139052987, -0.013817967846989632, 0.013502206653356552, 0.04321804270148277, -0.025658998638391495, 0.010001379996538162, 0.03207031637430191, -0.00372048607096076, 0.02910490892827511, 0.016117529943585396, -0.0027766358107328415, 0.006860933266580105, 0.00339271267876029, 0.0014638259308412671, -0.021361904218792915, 0.0008104241569526494, 0.0026462129317224026, -0.011072221212089062, 0.00521005317568779, 0.00742037920281291, -0.01622735895216465, 0.0014226397033780813, -0.021197160705924034, 0.006926144473254681, -0.007118347100913525, 0.015444821678102016, 0.01376305241137743, -0.015925327315926552, 0.014799571596086025, 0.007921477779746056, -0.028830334544181824, 0.011456625536084175, 0.025658998638391495, 0.0013668667525053024, -0.015046688728034496, -0.03256455063819885, 0.012390179559588432, -0.028226271271705627, 0.02266613394021988, 0.006572629790753126, 0.01269221119582653, 0.0018430821364745498, -0.03421199694275856, -0.0006864365423098207, -0.016749052330851555, 0.010275955311954021, 0.0016225643921643496, -0.01559583842754364, 0.00564594054594636, -0.0006697046337649226, 0.01033773459494114, 0.0040568397380411625, -0.010090617462992668, 0.02672983892261982, 0.0010219323448836803, -0.015568381175398827, -0.008566727861762047, 0.003603791818022728, -0.012170519679784775, 0.0002189088991144672, 0.008923674933612347, -0.0013797373976558447, -0.011442896910011768, -0.006304919719696045, 0.005498356651514769, -0.012513738125562668, 0.0035694700200110674, 0.018657345324754715, 0.0028143897652626038, 0.0015676494222134352, -0.036545880138874054, -0.012012639082968235, 0.0035694700200110674, 0.03835807368159294, 0.016762780025601387, -0.01567821018397808, 0.014662284404039383, -0.008992318995296955, -0.007729275617748499, -0.030834728851914406, -0.009603247046470642, 0.010447564534842968, 0.010303412564098835, 0.01416805014014244, -0.0027886484749615192, 0.007564530707895756, -0.025837471708655357, 0.0016594603657722473, 0.01098298467695713, -0.026688652113080025, -0.0035763343330472708, -0.004623149987310171, -0.0002095776580972597, 0.009651297703385353, -0.012438230216503143, 0.014772114343941212, 0.023531043902039528, 0.009912143461406231, -0.008580456487834454, 0.02402527816593647, 0.03555741161108017, -0.011930267326533794, -0.03714994713664055, -0.011525269597768784, 0.01245882362127304, 0.006545172538608313, -0.001548772444948554, -0.013989577069878578, 0.04843496158719063, 0.016927525401115417, 0.016405833885073662, 0.02116970345377922, -0.017215829342603683, 0.020002759993076324, 0.008456897921860218, 0.007736139930784702, -0.005992590915411711, -0.0008404557593166828, -1.81530285772169e-05, 0.012362722307443619, 0.01300110761076212, 0.007701817899942398, -0.001958060311153531, 0.012280349619686604, 0.008580456487834454, -0.05156511440873146, -0.007852833718061447, 0.003068371443077922, 0.010989849455654621, -0.0029053427278995514, -0.0031438793521374464, 0.002733733505010605, -0.03294895216822624, -0.015170247294008732, -0.013481613248586655, -0.004616285674273968, -0.0075302086770534515, -0.003030617255717516, -0.040225181728601456, 0.013515935279428959, -0.031630996614694595, -0.026400350034236908, 0.013076616451144218, 0.000940418045502156, -0.009500281885266304, -0.02409392222762108, -0.020387165248394012, 0.023297656327486038, 0.0058072530664503574, 0.00855299923568964, -0.0013968984130769968, -0.012143062427639961, 0.013941526412963867, -0.028116440400481224, -0.023023081943392754, -0.0170922689139843, -0.02170512266457081, 0.00014704758359584957, 0.0021262371446937323, -0.012726533226668835, 0.005663101561367512, 0.013502206653356552, -0.009692483581602573, 0.0026873990427702665, -0.009767992421984673, 0.01360517181456089, -0.006603519432246685, 0.0044961594976484776, 0.004025950096547604, 0.017311928793787956, 0.012342128902673721, 0.006020048633217812, -0.020112590864300728, -0.009239436127245426, -0.0016448735259473324, 0.002018123399466276, -0.012362722307443619, 0.011387982405722141, 0.005134545266628265, 0.021732579916715622, 0.006397588644176722, -0.0009146766969934106, 0.0014526713639497757, 0.025178492069244385, -0.029379483312368393, -0.0017066528089344501, -0.013138395734131336, 0.02682594023644924, 0.012953057885169983, 0.013419833965599537, 0.015129061415791512, -0.006919280160218477, -0.020977500826120377, -0.005930811632424593, 0.008642235770821571, 0.012149927206337452, 0.027567291632294655, -0.004327982198446989, 0.024299854412674904, 0.0024368497543036938, 0.014332794584333897, -0.01046815700829029, -0.011518404819071293, -0.006349537987262011, -0.006366699002683163, 0.003087248420342803, -0.0170922689139843, -0.005965133663266897, -0.006548604462295771, -0.017723791301250458, 0.0032313999254256487, -0.014442624524235725, 0.004369168542325497, -0.0074272435158491135, -0.014442624524235725, 0.024876460433006287, -0.01884954795241356, 0.00022180480300448835, -0.035200465470552444, -0.024945104494690895, -0.007406650111079216, 0.019041748717427254, 0.02291325107216835, 0.0017589936032891273, -0.0007881149649620056, -0.029736431315541267, -0.014607369899749756, -0.016323460265994072, -0.018561244010925293, -0.008621643297374249, 0.023599687963724136, 0.04593633487820625, 0.013687544502317905, 0.015142790041863918, -0.00942477397620678, 0.01427788008004427, 0.009486553259193897, 0.0071526686660945415, -0.02259749174118042, 0.017394302412867546, 0.0033309333957731724, -0.019357509911060333, 0.006998220458626747, 0.008175458759069443, -0.010605444200336933, 0.019989032298326492, -0.00814800150692463, 0.00823723804205656, 0.02075784094631672, -0.010351463221013546, -0.0021983131300657988, -0.015197704546153545, -0.02959914319217205, -0.01622735895216465, 0.02984626032412052, -0.0020833348389714956, -0.0037582400254905224, -0.03198794275522232, 0.005385094787925482, 0.030422868207097054, -0.003572902176529169, 0.011010441929101944, -0.004643743392080069, 0.01591159962117672, -0.012534331530332565, 0.020579367876052856, 0.004372600931674242, 0.003947010263800621, -0.015733124688267708, 0.0007486448739655316, -0.013529663905501366, 0.011072221212089062, 0.01360517181456089, -0.008875624276697636, 0.01783362217247486, -0.002979134675115347, 0.01886327564716339, 0.010166125372052193, -0.00012184248771518469, -0.00926689337939024, -0.010680952109396458, -0.003087248420342803, -0.04247669130563736, -0.0044961594976484776, -0.024629343301057816, -0.020895129069685936, 0.0038955274503678083, -3.274650907769683e-06, 0.009534603916108608, -0.010591715574264526, 0.01543109305202961, -0.008367661386728287, -0.021293262019753456, 0.026510179042816162, 0.023023081943392754, 0.04192754253745079, -0.007077160757035017, 0.030367951840162277, 0.017408030107617378, 0.03660079464316368, -0.007186990696936846, 0.005038444418460131, 0.006617248058319092, -0.0030048759654164314, 0.011415439657866955, 0.017778705805540085, -0.0023287360090762377, -0.034321825951337814, -0.0017452648608013988, 0.005385094787925482, 0.0061504715122282505, -0.03824824467301369, 0.01694125309586525, 0.009184520691633224, 0.00764003861695528, 0.0004749282670672983, -0.0034596400801092386, -0.027196615934371948, 0.027237802743911743, 0.009246299974620342, 0.01249314472079277, -0.006270597688853741, -0.017613962292671204, -0.023091726005077362, 0.036545880138874054, -0.015403635799884796, 0.02825372852385044, -0.01948106847703457, -0.01352280005812645, -0.006322080735117197, -0.004537345375865698, 0.002012975048273802, 0.028143897652626038, -0.0007838247111067176, 0.020098861306905746, -0.013715001754462719, -0.0068231793120503426, 0.022872066125273705, -0.002802377101033926, -0.00010543236567173153, 0.01138111762702465, 0.01685888133943081, 0.0234761293977499, -0.021540379151701927, -0.013488478027284145, -0.014772114343941212, -0.0023613416124135256, 0.02992863394320011, -0.02188359759747982, -0.009877821430563927, 0.00015916746633592993, -0.0033292172010987997, -0.006981059443205595, 0.0027457461692392826, -0.0013110938016325235, -0.006359834689646959, 0.005083062686026096, 0.0010004813084378839, -0.013975847512483597, -0.00986409280449152, 0.004688361659646034, 0.025590354576706886, -0.022089527919888496, -0.01775124855339527, 0.005687126889824867, -0.0037136217579245567, 0.008216645568609238, 0.009143334813416004, -0.04080178961157799, 0.00048736995086073875, 0.030972016975283623, -0.0007271937211044133, 0.004424083512276411, 0.013756188564002514, 0.009239436127245426, -0.0048736995086073875, 0.012465687468647957, 0.005172299221158028, -0.02402527816593647, 0.03690283000469208, -0.009404180571436882, -0.03149370849132538, -0.015774311497807503, 0.017723791301250458, 0.017284471541643143, 0.021293262019753456, 0.002040432533249259, 0.011683150194585323, -0.0033275012392550707, 0.001474122516810894, -0.0018447982147336006, -0.002671954222023487, 0.015252619981765747, -0.021059872582554817, -0.006534875836223364, 0.017929721623659134, -0.024313582107424736, 0.015019231475889683, -0.010996713303029537, 0.014360252767801285, -0.004829081241041422, -0.0361340194940567, -0.02099122852087021, -0.007571395020931959, 0.009129606187343597, -0.011175187304615974, 0.013708137907087803, 0.008875624276697636, -0.013886610977351665, -0.0398133210837841, 0.007935206405818462, -0.004928614478558302, -0.014772114343941212, 0.03904451057314873, 0.0029636898543685675, -0.0009592950809746981, 0.02075784094631672, -0.023448672145605087, -0.007537072990089655, -0.012774583883583546, -0.014291608706116676, -0.04055467247962952, 0.01725701428949833, -0.011436033062636852, 0.02362714521586895, 0.015376178547739983, -0.03286658227443695, -0.03407470881938934, -0.02148546278476715, -0.012925599701702595, -0.0050556049682199955, 0.006826611235737801, -0.0035488768480718136, 0.01269221119582653, 0.008806981146335602, -0.008896217681467533, -0.0050041223876178265, -0.005127680953592062, -0.00019885208166670054, -0.0034510598052293062, 0.012733398005366325, 0.008724608458578587, 0.0021742878016084433, 0.007942071184515953, 0.02387426234781742, 0.0003157608152832836, -0.0372597761452198, -0.0011146013857796788, 0.015362449921667576, -0.0003601646749302745, 0.026674924418330193, -0.006253436673432589, 0.0030735195614397526, -0.02554916776716709, -0.004561370704323053, 0.005141409579664469, 0.02259749174118042, -0.00970621220767498, -0.02872050553560257, 0.016323460265994072, -0.01584295555949211, -0.0022223382256925106, -0.03747943416237831, 0.0008794968016445637, -0.009843500331044197, -0.004039679188281298, 0.007681224960833788, -0.01990666054189205, -0.0035591735504567623, -0.008621643297374249, 0.01727074384689331, 0.015046688728034496, -0.007605717051774263, 0.0006177928880788386, 0.04678751528263092, 0.0014252138789743185, -0.0032931792084127665, -0.02402527816593647, 0.001976937288418412, -0.029132366180419922, -0.005996023304760456, 0.003058074740692973, -0.04519498348236084, 0.021993426606059074, -0.014593641273677349, 0.01523889135569334, -0.02521967887878418, 0.00794893503189087, 0.002441998105496168, -0.001831069472245872, -0.029077451676130295, 0.01033773459494114, 0.01376991719007492, -0.01463482715189457, -0.007207583636045456, 0.0017315361183136702, 0.017792435362935066, -0.012898142449557781, 0.00274402997456491, -0.027100514620542526, 0.0013745891628786922, -0.010571123100817204, 0.023366300389170647, -0.014017034322023392, -0.0008503232384100556, 7.298751006601378e-05, 0.00855299923568964, -0.017710063606500626, 0.004815352149307728, 0.1959364414215088, -0.015046688728034496, -0.007489022798836231, 0.00025419602752663195, -0.014497539959847927, -0.021032415330410004, 0.033305902034044266, 0.01766887679696083, 0.0028264024294912815, -0.007729275617748499, -0.0030718035995960236, -0.004303957335650921, -0.016405833885073662, -0.0024282692465931177, 0.012479416094720364, -0.010653494857251644, -0.03794621303677559, -0.03149370849132538, -0.026935769245028496, -0.02044207975268364, 0.011511540971696377, 0.01702362671494484, 0.010131803341209888, -0.021334446966648102, 0.007338006515055895, 0.0010039134649559855, -0.00037067572702653706, -0.008216645568609238, 0.022570032626390457, 0.03127405047416687, 0.0025072095450013876, -0.0010279386769980192, -0.0024488624185323715, -0.010646631009876728, -0.01276772003620863, 0.0001253819209523499, 0.019069207832217216, 0.005951404571533203, 0.005810685455799103, 0.0025398151483386755, 0.004835945554077625, -0.004303957335650921, -0.004022518172860146, -0.02235037460923195, 0.025974757969379425, 0.00447556609287858, 0.008161730132997036, 0.0019323189044371247, 0.010454428382217884, 0.020908856764435768, -0.03701265901327133, 0.009040369652211666, 0.018643615767359734, 0.03349810466170311, -0.012177384458482265, 0.006407884880900383, -0.020236149430274963, 0.005395391024649143, 0.012987378984689713, -0.010893748141825199, -0.01332373358309269, 0.042119745165109634, -0.010831968858838081, 0.02784186601638794, 0.0031610403675585985, 0.0013282547006383538, -0.012541195377707481, 0.012170519679784775, 0.008957996964454651, 0.0024625910446047783, 0.00518946023657918, -0.04261397942900658, -0.0008370235445909202, -0.010214176028966904, -0.016131259500980377, -0.027704577893018723, 0.04417905583977699, 0.015499737113714218, 0.012712804600596428, 0.014717199839651585, 0.003933281172066927, 0.01042697113007307, -0.004036246798932552, -0.007701817899942398, -0.035200465470552444, -0.01002883818000555, 0.02498628944158554, 0.006778561044484377, -0.013399241492152214, 0.002256660023704171, -0.0020644578617066145, 0.012534331530332565, -0.028583217412233353, 0.007667496334761381, -0.002761190989986062, 0.02483527362346649, -0.009754262864589691, 0.01798463799059391, -0.026537636294960976, -0.0069570341147482395, -0.01484075840562582, 0.03940145671367645, 0.03228997439146042, 0.023778161033988, -0.010372055694460869, 0.023764433339238167, -0.018561244010925293, 0.00264449673704803, -0.006318648345768452, -0.007921477779746056, 0.0015084443148225546, -0.014387710019946098, 0.012369586154818535, -0.007859698496758938, -0.01662549376487732, 0.015705667436122894, -0.01861615851521492, -0.011992046609520912, -0.0016148419817909598, -0.009026640094816685, 0.004108322784304619, -0.022171899676322937, 0.020332250744104385, 0.026784753426909447, -0.020345978438854218, -0.014058220200240612, -0.008072493597865105, -0.018918190151453018, -0.011003578081727028, -0.04851733520627022, 0.021993426606059074, -0.036243848502635956, 0.00742037920281291, 0.00020560919074341655, -0.013756188564002514, 0.01647447608411312, 0.022213086485862732, 0.00417696638032794, -0.020483266562223434, -0.004643743392080069, 0.005426280666142702, -0.0013934661401435733, 0.00186024303548038, -0.003119854023680091, 0.011113408021628857, -0.008010714314877987, 0.002663373714312911, -0.002970554167404771, -0.01372186653316021, -0.012486280873417854, -0.017943451181054115, -0.009754262864589691, 9.395599772688001e-05, 0.008299017325043678, 0.032646920531988144, 0.009369858540594578, 0.004904589150100946, -0.011648828163743019, 2.7725600375561044e-05, 0.025178492069244385, -0.03533775359392166, 0.013776781037449837, 0.044206514954566956, -0.01599397137761116, 0.009362994693219662, -0.012335265055298805, -0.17847350239753723, 0.004739844240248203, 0.012129333801567554, -0.05527187138795853, 0.009877821430563927, 0.020085133612155914, 0.029791345819830894, -0.011765521951019764, 0.008292153477668762, 0.014140592887997627, -0.010324005968868732, 0.007413514424115419, -0.028665589168667793, -0.02130698971450329, -0.0013797373976558447, 0.005120816640555859, 0.01576058380305767, -0.0029122070409357548, 0.018025822937488556, 0.019453611224889755, 0.014291608706116676, -0.013632629998028278, 0.013914068229496479, -0.01269221119582653, -0.009877821430563927, -0.005752338096499443, -0.025521710515022278, 0.03407470881938934, 0.006157335825264454, -0.015225162729620934, -0.01790226437151432, -0.015939056873321533, 0.013261954300105572, 0.0203597079962492, 0.005244375206530094, 0.002685682848095894, -0.007344870828092098, -0.006737374700605869, -0.02339375764131546, 0.007749868556857109, 0.02759474888443947, 0.021760039031505585, 0.01109281461685896, 0.006030344869941473, -0.005024715326726437, 0.0007409224635921419, -0.0012570369290187955, -0.00044060643995180726, -0.0018979969900101423, 0.007921477779746056, 0.01225289236754179, -0.0006576920277439058, 0.02634543366730213, -0.008855031803250313, -0.007694953586906195, -0.003277734387665987, 0.007715546526014805, 0.009541467763483524, -0.002522654365748167, -1.2904202776553575e-05, -0.0027594747953116894, -0.012705940753221512, -0.01823175512254238, -0.02274850755929947, -0.0015058701392263174, -0.005862168036401272, -0.037863839417696, -0.011154593899846077, -0.019824286922812462, -0.0027543266769498587, -0.006781992968171835, -0.010083752684295177, 0.00048093459918163717, 0.01507414598017931, 0.011360525153577328, 0.002107360167428851, 0.000516972504556179, -0.0002962402650155127, 0.02369578927755356, -0.013612036593258381, -0.009294350631535053, 0.01022103987634182, -0.024135109037160873, -0.016749052330851555, -0.002246363554149866, 0.0006268023862503469, 0.00706343213096261, -0.008450034074485302, 0.0044961594976484776, -0.015129061415791512, 0.013385512866079807, -0.018588701263070107, 0.011346795596182346, 0.0036243849899619818, 0.01368068065494299, 0.009356129914522171, 0.008587321266531944, 0.008566727861762047, 0.011422304436564445, -0.010399513877928257, 0.0001301011798204854, 0.010632902383804321, -0.03506317734718323, 0.0043520075269043446, 0.04535972699522972, -0.003248560940846801, 0.009761127643287182, 0.01766887679696083, 0.03739706426858902, -0.002828118624165654, -0.013790509663522243, 0.010365191847085953, 0.02195223979651928, 0.01304915826767683, -0.009253164753317833, 0.02618069015443325, -0.011628234758973122, -0.024601886048913002, -0.006188225466758013, -0.016831424087285995, 0.03207031637430191, 0.039181798696517944, 0.001509302295744419, 0.0072968206368386745, -0.0026788185350596905, 0.0029774184804409742, -0.09813296794891357, -0.0404173843562603, 0.026510179042816162, 0.0019168740836903453, -0.0058587356470525265, 0.02497256174683571, -0.009767992421984673, -0.00125789490994066, -0.010255361907184124, 0.0277594942599535, -0.027333902195096016, -0.008724608458578587, -0.006105853244662285, -0.013687544502317905, 0.014373981393873692, -0.00030825290014036, -0.018176838755607605, -0.006349537987262011, -0.0101798539981246, 0.03176828473806381, 0.011346795596182346, -0.00855299923568964, -0.007550802081823349, -0.005570432636886835, -0.007111482322216034, 0.0036552746314555407, -0.023201555013656616, 0.025961030274629593, 0.009356129914522171, 0.008642235770821571, 0.004080865066498518, -0.02491764724254608, 0.0017195235705003142, -0.035529956221580505, -0.015486008487641811, 0.007894020527601242, -0.015486008487641811, -0.007887155748903751, 0.02833610028028488, -0.023970363661646843, 0.0078047835268080235, 0.011065357364714146, 0.03920925408601761, -0.020387165248394012, 0.003703325055539608, -0.01416805014014244, -0.029654057696461678, 0.026510179042816162, 0.004708954598754644, -0.011120271869003773, -0.025027476251125336, -0.012753990478813648, -0.028143897652626038, -0.013200175017118454, 0.03039540909230709, -0.007111482322216034, -0.0026873990427702665, 4.400835678097792e-06, -0.009630704298615456, 0.017476674169301987, -0.02457442879676819, -0.005965133663266897, -0.011065357364714146, 0.01241077296435833, 0.024011550471186638, -0.00014307911624200642, -0.04810547083616257, -0.006740806624293327, 0.021856140345335007, -0.006977627519518137, -0.0021742878016084433, 0.02410765178501606, -0.028940165415406227, 0.02395663596689701, -0.026633737608790398, 0.019851744174957275, -0.024368496611714363, -0.014401438646018505, 0.018478872254490852, -0.013955255039036274, -0.006274030078202486, -0.020249877125024796, 0.006648137699812651, -0.00016431574476882815, 0.03149370849132538, 0.00640102056786418, -0.005996023304760456, 0.012500009499490261, -0.0021348176524043083, -0.02951677143573761, 0.0004191553161945194, 0.016021428629755974, -0.0046780649572610855, -0.01838277094066143, -0.004025950096547604, 0.011827301234006882, 0.004091161768883467, 0.006943305488675833, -0.011593912728130817, 0.014332794584333897, -0.011648828163743019, -0.0070016528479754925, -0.04481057822704315, 0.008106815628707409, -0.002563840476796031, 0.005673397798091173, 0.01567821018397808, -0.018121924251317978, -0.002917355392128229, -0.005779795814305544, -0.01158018410205841, 0.01854751445353031, -0.03443165868520737, -0.006960466504096985, -0.018986834213137627, 0.0008258689776994288, -0.006740806624293327, -0.020345978438854218, 0.047556322067976, 0.007646902929991484, 0.024711715057492256, 0.023668332025408745, -0.020510723814368248, 0.02148546278476715, 0.022473933175206184, 0.020030219107866287, -0.0167902372777462, 0.018163111060857773, -0.00815486628562212, 0.03283912315964699, -0.02014004811644554, -0.016048885881900787, 0.03270183503627777, -0.03890722244977951, 0.018176838755607605, 0.04000551998615265, 0.0007894019945524633, -0.0249039176851511, -0.0038062906824052334, 0.011799843981862068, 0.022721050307154655, 0.05258103832602501, -0.03127405047416687, -0.02682594023644924, -0.006026912946254015, -0.005978862289339304, 0.003209090791642666, 0.00708402507007122, -0.008422575891017914, 0.014909401535987854, 0.014785842970013618, -0.011841029860079288, 0.03270183503627777, 0.008491219952702522, -0.003631249302998185, -0.027169158682227135, -0.0025089255068451166, -0.0234761293977499, 0.027951695024967194, 0.023572230711579323, 0.0012999392347410321, -0.008244102820754051, 0.009857228957116604, 0.005323315504938364, 0.019769372418522835, -0.007811647839844227, 0.024849003180861473, -0.0029516771901398897, -0.009685619734227657, -0.0032640057615935802, 0.0073311422020196915, -0.03860519081354141, -0.004314253572374582, -0.00034407631028443575, 0.0014149172930046916, 0.01296678651124239, 0.001658602268435061, -0.006483393255621195, 0.012774583883583546, 0.0056253476068377495, -0.012788312509655952, 0.014154321514070034, 0.013982712291181087, -0.01507414598017931, 0.0023733542766422033, 0.009417909197509289, 0.013646358624100685, 0.017710063606500626, -0.011278152465820312, -0.004499591421335936, 0.014785842970013618, 0.015554651618003845, 0.010289683938026428, 0.00024175437283702195, 0.0017203815514221787, -0.006455935537815094, -0.007303684949874878, -0.003823451464995742, -0.020167505368590355, -0.007516480050981045, 0.011573320254683495, 0.02258376218378544, 0.015197704546153545, -0.005820981692522764, -0.015334992669522762, -0.02968151681125164, -0.018245482817292213, 0.0048736995086073875, -0.02236410230398178, -0.03399233892560005, -0.01285009179264307, 0.013907204382121563, 0.01606261543929577, 0.004499591421335936, -0.0058587356470525265, 0.016213631257414818, -0.007694953586906195, 0.003723918227478862, -0.012362722307443619, -0.03563978523015976, -0.03462385758757591, 0.03127405047416687, 0.021787496283650398, 0.007907749153673649, 0.0059067863039672375, -0.0027062760200351477, 0.04901156947016716, 0.021828681230545044, 0.020702926442027092, -0.02990117482841015, 0.010715274140238762, -0.012534331530332565, -0.019220223650336266, -0.002682250691577792, -0.019124122336506844, -0.009651297703385353, -0.02251511812210083, -0.01245195884257555, -0.024560699239373207, 0.021046144887804985, -0.019069207832217216, 0.08621642738580704, 0.011154593899846077, -0.020167505368590355, 0.010076888836920261, -0.01828666962683201, 0.0024763199035078287, 0.00942477397620678, -0.002622187603265047, -0.011786115355789661, -0.03333335742354393, 0.01002883818000555, -0.030834728851914406, 0.015417364425957203, -0.005690558813512325, -0.0033137723803520203, -0.007537072990089655, -0.002354477299377322, 0.024478327482938766, 0.007145804353058338, -0.007866562344133854, 0.001625138451345265, 0.002809241646900773, 0.001920306240208447, -0.007537072990089655, -0.0220483411103487, -0.001390892080962658, 0.01783362217247486, -0.02092258632183075, 0.018272940069437027, -0.03835807368159294, 0.024395953863859177, 0.0071526686660945415, -0.031081845983862877, -0.008532405830919743, 0.0026736704166978598, 0.004842809867113829, 0.008299017325043678, -0.0050899269990623, 0.021334446966648102, 0.014936858788132668, 0.02116970345377922, 0.01878090389072895, -0.012486280873417854, -0.05433831736445427, 0.004451540764421225, 0.006085259839892387, -0.020016489550471306, -0.006349537987262011, -0.02186986804008484], 'confidenceScore': 0.5, 'processingMetadata': {'originalLength': 15, 'expandedLength': 15, 'entitiesFound': 0, 'processingTime': 752}}, 'sources': [{'documentId': 'test-embed-1754678352937', 'title': 'This is a test document about API management and knowledge graphs.', 'relevanceScore': 0.871801257, 'excerpt': 'This is a test document about API management and knowledge graphs...'}, {'documentId': 'test-embed-1754676703130', 'title': 'This is a test document about API management and knowledge graphs.', 'relevanceScore': 0.871801257, 'excerpt': 'This is a test document about API management and knowledge graphs...'}, {'documentId': 'test-doc-1754678353912', 'title': 'API Management Platform Overview', 'relevanceScore': 0.750449657, 'excerpt': 'API Management Platform provides comprehensive tools for managing APIs, including authentication, rate limiting, monitoring, and analytics. The platform supports multiple deployment models and integra...'}, {'documentId': 'test-doc-1754676704936', 'title': 'API Management Platform Overview', 'relevanceScore': 0.750449657, 'excerpt': 'API Management Platform provides comprehensive tools for managing APIs, including authentication, rate limiting, monitoring, and analytics. The platform supports multiple deployment models and integra...'}], 'processingTime': 1680, 'metadata': {'totalDocuments': 4, 'searchTime': 715, 'llmTokens': 0, 'confidence': 0.5}}\n"
     ]
    }
   ],
   "source": [
    "# POST /query/search (LLM-RAG Service)\n",
    "search_payload = {\n",
    "    \"query\": \"knowledge graph\",\n",
    "    \"filters\": {\"domain\": \"AI\"}\n",
    "}\n",
    "try:\n",
    "    response = requests.post(f'{llm_base_url}/query/search', json=search_payload, headers=llm_headers)\n",
    "    print(response.status_code, response.json())\n",
    "except Exception as e:\n",
    "    print('Request failed:', e)"
   ]
  },
  {
   "cell_type": "code",
   "execution_count": 54,
   "id": "e3acbb02",
   "metadata": {},
   "outputs": [
    {
     "name": "stdout",
     "output_type": "stream",
     "text": [
      "200 {'query': 'What are the main use cases for knowledge graphs?', 'analysis': {'query': 'What are the main use cases for knowledge graphs?', 'length': 49, 'complexity': 'high', 'keywords': ['what', 'main', 'cases', 'knowledge', 'graphs?'], 'timestamp': '2025-08-09T10:58:05.035Z'}, 'metadata': {'processingTime': 0, 'timestamp': '2025-08-09T10:58:05.035Z'}}\n"
     ]
    }
   ],
   "source": [
    "# POST /query/analyze (LLM-RAG Service)\n",
    "analyze_payload = {\n",
    "    \"query\": \"What are the main use cases for knowledge graphs?\"\n",
    "}\n",
    "try:\n",
    "    response = requests.post(f'{llm_base_url}/query/analyze', json=analyze_payload, headers=llm_headers)\n",
    "    print(response.status_code, response.json())\n",
    "except Exception as e:\n",
    "    print('Request failed:', e)"
   ]
  },
  {
   "cell_type": "code",
   "execution_count": null,
   "id": "7f132552",
   "metadata": {},
   "outputs": [],
   "source": [
    "# POST /query/suggestions (LLM-RAG Service)\n",
    "suggestions_payload = {\n",
    "    \"query\": \"knowledge graph\"\n",
    "}\n",
    "try:\n",
    "    response = requests.post(f'{llm_base_url}/query/suggestions', json=suggestions_payload, headers=llm_headers)\n",
    "    print(response.status_code, response.json())\n",
    "except Exception as e:\n",
    "    print('Request failed:', e)"
   ]
  }
 ],
 "metadata": {
  "kernelspec": {
   "display_name": ".venv",
   "language": "python",
   "name": "python3"
  },
  "language_info": {
   "codemirror_mode": {
    "name": "ipython",
    "version": 3
   },
   "file_extension": ".py",
   "mimetype": "text/x-python",
   "name": "python",
   "nbconvert_exporter": "python",
   "pygments_lexer": "ipython3",
   "version": "3.13.6"
  }
 },
 "nbformat": 4,
 "nbformat_minor": 5
}
