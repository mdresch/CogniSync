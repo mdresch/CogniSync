{
 "cells": [
  {
   "cell_type": "markdown",
   "id": "a3133c32",
   "metadata": {},
   "source": [
    "# CogniSync Python Client Library Scaffold\n",
    "This notebook demonstrates how to scaffold a Python package for the CogniSync API client, including:\n",
    "1. Setting up the project directory structure\n",
    "2. Creating `setup.py` and `requirements.txt`\n",
    "3. Implementing a basic client class\n",
    "4. Testing the client functionality"
   ]
  },
  {
   "cell_type": "code",
   "execution_count": null,
   "id": "4cbdcf35",
   "metadata": {},
   "outputs": [],
   "source": [
    "# 1. Set Up Project Directory Structure\n",
    "import os\n",
    "os.makedirs('cogni_sync_client', exist_ok=True)\n",
    "os.makedirs('tests', exist_ok=True)\n",
    "with open('cogni_sync_client/__init__.py', 'w') as f:\n",
    "    f.write('# CogniSync Client package init')\n",
    "with open('tests/__init__.py', 'w') as f:\n",
    "    f.write('# Tests package init')\n",
    "print('Project directories and __init__.py files created.')"
   ]
  },
  {
   "cell_type": "code",
   "execution_count": null,
   "id": "e7b88892",
   "metadata": {},
   "outputs": [],
   "source": [
    "# 2. Create setup.py and requirements.txt\n",
    "setup_py = '''\\\n",
    "from setuptools import setup, find_packages\n",
    "\n",
    "setup(\n",
    "    name='cogni-sync-client',\n",
    "    version='0.1.0',\n",
    "    description='Python client for CogniSync API integration',\n",
    "    author='Your Name',\n",
    "    packages=find_packages(),\n",
    "    install_requires=[\n",
    "        'requests'\n",
    "    ],\n",
    "    python_requires='>=3.7',\n",
    ")\n",
    "'''\n",
    "with open('setup.py', 'w') as f:\n",
    "    f.write(setup_py)\n",
    "\n",
    "with open('requirements.txt', 'w') as f:\n",
    "    f.write('requests\\n')\n",
    "\n",
    "print('setup.py and requirements.txt created.')"
   ]
  },
  {
   "cell_type": "code",
   "execution_count": null,
   "id": "e0831ca2",
   "metadata": {},
   "outputs": [],
   "source": [
    "# 3. Implement Basic Client Class\n",
    "import requests\n",
    "\n",
    "class CogniSyncClient:\n",
    "    def __init__(self, base_url: str, api_key: str):\n",
    "        self.base_url = base_url.rstrip('/')\n",
    "        self.api_key = api_key\n",
    "        self.session = requests.Session()\n",
    "        self.session.headers.update({\n",
    "            'Authorization': f'Bearer {self.api_key}',\n",
    "            'x-api-key': self.api_key,\n",
    "            'Content-Type': 'application/json'\n",
    "        })\n",
    "\n",
    "    def health(self):\n",
    "        url = f'{self.base_url}/api/health'\n",
    "        resp = self.session.get(url)\n",
    "        resp.raise_for_status()\n",
    "        return resp.json()"
   ]
  },
  {
   "cell_type": "code",
   "execution_count": null,
   "id": "3b69ba1b",
   "metadata": {},
   "outputs": [],
   "source": [
    "# 4. Test Basic Client Functionality\n",
    "# Example usage (replace with your actual API URL and key)\n",
    "BASE_URL = 'http://localhost:3002'  # Update as needed\n",
    "API_KEY = 'AS-SYNC-KEY-1234'       # Update as needed\n",
    "\n",
    "client = CogniSyncClient(BASE_URL, API_KEY)\n",
    "try:\n",
    "    health = client.health()\n",
    "    print('Health check:', health)\n",
    "except Exception as e:\n",
    "    print('Health check failed:', e)"
   ]
  }
 ],
 "metadata": {
  "language_info": {
   "name": "python"
  }
 },
 "nbformat": 4,
 "nbformat_minor": 5
}
